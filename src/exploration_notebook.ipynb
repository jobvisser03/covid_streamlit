{
 "nbformat": 4,
 "nbformat_minor": 2,
 "metadata": {
  "language_info": {
   "name": "python",
   "codemirror_mode": {
    "name": "ipython",
    "version": 3
   },
   "version": "3.8.1-final"
  },
  "orig_nbformat": 2,
  "file_extension": ".py",
  "mimetype": "text/x-python",
  "name": "python",
  "npconvert_exporter": "python",
  "pygments_lexer": "ipython3",
  "version": 3,
  "kernelspec": {
   "name": "python38164bitcovidstreamlitwl125bfdpy38venv1251a351cdd04d7293566086d4d75b8e",
   "display_name": "Python 3.8.1 64-bit ('covid-streamlit-WL125bfD-py3.8': venv)"
  }
 },
 "cells": [
  {
   "cell_type": "code",
   "execution_count": 5,
   "metadata": {},
   "outputs": [],
   "source": [
    "import streamlit as st\n",
    "import pandas as pd\n",
    "import numpy as np\n",
    "import plotly.express as px"
   ]
  },
  {
   "cell_type": "code",
   "execution_count": 6,
   "metadata": {},
   "outputs": [],
   "source": [
    "df = px.data.gapminder()\n",
    "fig = px.scatter(df, x=\"gdpPercap\", y=\"lifeExp\", animation_frame=\"year\", animation_group=\"country\",\n",
    "           size=\"pop\", color=\"continent\", hover_name=\"country\", facet_col=\"continent\",\n",
    "           log_x=True, size_max=45, range_x=[100,100000], range_y=[25,90])"
   ]
  },
  {
   "cell_type": "code",
   "execution_count": 7,
   "metadata": {},
   "outputs": [
    {
     "output_type": "execute_result",
     "data": {
      "text/plain": "       country continent  year  lifeExp       pop   gdpPercap iso_alpha  \\\n0  Afghanistan      Asia  1952   28.801   8425333  779.445314       AFG   \n1  Afghanistan      Asia  1957   30.332   9240934  820.853030       AFG   \n2  Afghanistan      Asia  1962   31.997  10267083  853.100710       AFG   \n3  Afghanistan      Asia  1967   34.020  11537966  836.197138       AFG   \n4  Afghanistan      Asia  1972   36.088  13079460  739.981106       AFG   \n\n   iso_num  \n0        4  \n1        4  \n2        4  \n3        4  \n4        4  ",
      "text/html": "<div>\n<style scoped>\n    .dataframe tbody tr th:only-of-type {\n        vertical-align: middle;\n    }\n\n    .dataframe tbody tr th {\n        vertical-align: top;\n    }\n\n    .dataframe thead th {\n        text-align: right;\n    }\n</style>\n<table border=\"1\" class=\"dataframe\">\n  <thead>\n    <tr style=\"text-align: right;\">\n      <th></th>\n      <th>country</th>\n      <th>continent</th>\n      <th>year</th>\n      <th>lifeExp</th>\n      <th>pop</th>\n      <th>gdpPercap</th>\n      <th>iso_alpha</th>\n      <th>iso_num</th>\n    </tr>\n  </thead>\n  <tbody>\n    <tr>\n      <th>0</th>\n      <td>Afghanistan</td>\n      <td>Asia</td>\n      <td>1952</td>\n      <td>28.801</td>\n      <td>8425333</td>\n      <td>779.445314</td>\n      <td>AFG</td>\n      <td>4</td>\n    </tr>\n    <tr>\n      <th>1</th>\n      <td>Afghanistan</td>\n      <td>Asia</td>\n      <td>1957</td>\n      <td>30.332</td>\n      <td>9240934</td>\n      <td>820.853030</td>\n      <td>AFG</td>\n      <td>4</td>\n    </tr>\n    <tr>\n      <th>2</th>\n      <td>Afghanistan</td>\n      <td>Asia</td>\n      <td>1962</td>\n      <td>31.997</td>\n      <td>10267083</td>\n      <td>853.100710</td>\n      <td>AFG</td>\n      <td>4</td>\n    </tr>\n    <tr>\n      <th>3</th>\n      <td>Afghanistan</td>\n      <td>Asia</td>\n      <td>1967</td>\n      <td>34.020</td>\n      <td>11537966</td>\n      <td>836.197138</td>\n      <td>AFG</td>\n      <td>4</td>\n    </tr>\n    <tr>\n      <th>4</th>\n      <td>Afghanistan</td>\n      <td>Asia</td>\n      <td>1972</td>\n      <td>36.088</td>\n      <td>13079460</td>\n      <td>739.981106</td>\n      <td>AFG</td>\n      <td>4</td>\n    </tr>\n  </tbody>\n</table>\n</div>"
     },
     "metadata": {},
     "execution_count": 7
    }
   ],
   "source": [
    "df.head()"
   ]
  },
  {
   "cell_type": "code",
   "execution_count": 31,
   "metadata": {},
   "outputs": [],
   "source": [
    "df_raw = pd.read_excel(\"https://www.ecdc.europa.eu/sites/default/files/documents/COVID-19-geographic-disbtribution-worldwide-2020-03-23.xlsx\")\n",
    "df_plot = df_raw.loc[(df_raw['Countries and territories'].isin(['Netherlands', 'Germany', 'Italy', 'China'])) & \\\n",
    "                    (df_raw['Cases'] > 0) & \\\n",
    "                    (df_raw['Month'] == 3)].sort_values('Day', ascending=True)"
   ]
  },
  {
   "cell_type": "code",
   "execution_count": 32,
   "metadata": {},
   "outputs": [
    {
     "output_type": "execute_result",
     "data": {
      "text/plain": "        DateRep  Day  Month  Year  Cases  Deaths Countries and territories  \\\n2280 2020-03-01    1      3  2020     54       0                   Germany   \n3118 2020-03-01    1      3  2020    240       8                     Italy   \n1241 2020-03-01    1      3  2020    574      35                     China   \n4096 2020-03-01    1      3  2020      5       0               Netherlands   \n2279 2020-03-02    2      3  2020     18       0                   Germany   \n...         ...  ...    ...   ...    ...     ...                       ...   \n4075 2020-03-22   22      3  2020    637      30               Netherlands   \n4074 2020-03-23   23      3  2020    573      43               Netherlands   \n3096 2020-03-23   23      3  2020   5560     649                     Italy   \n2258 2020-03-23   23      3  2020   3311      27                   Germany   \n1219 2020-03-23   23      3  2020    150       9                     China   \n\n     GeoId  \n2280    DE  \n3118    IT  \n1241    CN  \n4096    NL  \n2279    DE  \n...    ...  \n4075    NL  \n4074    NL  \n3096    IT  \n2258    DE  \n1219    CN  \n\n[92 rows x 8 columns]",
      "text/html": "<div>\n<style scoped>\n    .dataframe tbody tr th:only-of-type {\n        vertical-align: middle;\n    }\n\n    .dataframe tbody tr th {\n        vertical-align: top;\n    }\n\n    .dataframe thead th {\n        text-align: right;\n    }\n</style>\n<table border=\"1\" class=\"dataframe\">\n  <thead>\n    <tr style=\"text-align: right;\">\n      <th></th>\n      <th>DateRep</th>\n      <th>Day</th>\n      <th>Month</th>\n      <th>Year</th>\n      <th>Cases</th>\n      <th>Deaths</th>\n      <th>Countries and territories</th>\n      <th>GeoId</th>\n    </tr>\n  </thead>\n  <tbody>\n    <tr>\n      <th>2280</th>\n      <td>2020-03-01</td>\n      <td>1</td>\n      <td>3</td>\n      <td>2020</td>\n      <td>54</td>\n      <td>0</td>\n      <td>Germany</td>\n      <td>DE</td>\n    </tr>\n    <tr>\n      <th>3118</th>\n      <td>2020-03-01</td>\n      <td>1</td>\n      <td>3</td>\n      <td>2020</td>\n      <td>240</td>\n      <td>8</td>\n      <td>Italy</td>\n      <td>IT</td>\n    </tr>\n    <tr>\n      <th>1241</th>\n      <td>2020-03-01</td>\n      <td>1</td>\n      <td>3</td>\n      <td>2020</td>\n      <td>574</td>\n      <td>35</td>\n      <td>China</td>\n      <td>CN</td>\n    </tr>\n    <tr>\n      <th>4096</th>\n      <td>2020-03-01</td>\n      <td>1</td>\n      <td>3</td>\n      <td>2020</td>\n      <td>5</td>\n      <td>0</td>\n      <td>Netherlands</td>\n      <td>NL</td>\n    </tr>\n    <tr>\n      <th>2279</th>\n      <td>2020-03-02</td>\n      <td>2</td>\n      <td>3</td>\n      <td>2020</td>\n      <td>18</td>\n      <td>0</td>\n      <td>Germany</td>\n      <td>DE</td>\n    </tr>\n    <tr>\n      <th>...</th>\n      <td>...</td>\n      <td>...</td>\n      <td>...</td>\n      <td>...</td>\n      <td>...</td>\n      <td>...</td>\n      <td>...</td>\n      <td>...</td>\n    </tr>\n    <tr>\n      <th>4075</th>\n      <td>2020-03-22</td>\n      <td>22</td>\n      <td>3</td>\n      <td>2020</td>\n      <td>637</td>\n      <td>30</td>\n      <td>Netherlands</td>\n      <td>NL</td>\n    </tr>\n    <tr>\n      <th>4074</th>\n      <td>2020-03-23</td>\n      <td>23</td>\n      <td>3</td>\n      <td>2020</td>\n      <td>573</td>\n      <td>43</td>\n      <td>Netherlands</td>\n      <td>NL</td>\n    </tr>\n    <tr>\n      <th>3096</th>\n      <td>2020-03-23</td>\n      <td>23</td>\n      <td>3</td>\n      <td>2020</td>\n      <td>5560</td>\n      <td>649</td>\n      <td>Italy</td>\n      <td>IT</td>\n    </tr>\n    <tr>\n      <th>2258</th>\n      <td>2020-03-23</td>\n      <td>23</td>\n      <td>3</td>\n      <td>2020</td>\n      <td>3311</td>\n      <td>27</td>\n      <td>Germany</td>\n      <td>DE</td>\n    </tr>\n    <tr>\n      <th>1219</th>\n      <td>2020-03-23</td>\n      <td>23</td>\n      <td>3</td>\n      <td>2020</td>\n      <td>150</td>\n      <td>9</td>\n      <td>China</td>\n      <td>CN</td>\n    </tr>\n  </tbody>\n</table>\n<p>92 rows × 8 columns</p>\n</div>"
     },
     "metadata": {},
     "execution_count": 32
    }
   ],
   "source": [
    "df_plot"
   ]
  },
  {
   "cell_type": "code",
   "execution_count": 33,
   "metadata": {},
   "outputs": [
    {
     "output_type": "display_data",
     "data": {
      "application/vnd.plotly.v1+json": {
       "config": {
        "plotlyServerURL": "https://plot.ly"
       },
       "data": [
        {
         "hoverlabel": {
          "namelength": 0
         },
         "hovertemplate": "<b>%{hovertext}</b><br><br>Countries and territories=Germany<br>Day=1<br>Cases=%{marker.size}<br>Deaths=%{y}",
         "hovertext": [
          "Germany"
         ],
         "ids": [
          "Germany"
         ],
         "legendgroup": "Germany",
         "marker": {
          "color": "#636efa",
          "size": [
           54
          ],
          "sizemode": "area",
          "sizeref": 3.238024691358025,
          "symbol": "circle"
         },
         "mode": "markers",
         "name": "Germany",
         "showlegend": true,
         "type": "scatter",
         "x": [
          54
         ],
         "xaxis": "x",
         "y": [
          0
         ],
         "yaxis": "y"
        },
        {
         "hoverlabel": {
          "namelength": 0
         },
         "hovertemplate": "<b>%{hovertext}</b><br><br>Countries and territories=Italy<br>Day=1<br>Cases=%{marker.size}<br>Deaths=%{y}",
         "hovertext": [
          "Italy"
         ],
         "ids": [
          "Italy"
         ],
         "legendgroup": "Italy",
         "marker": {
          "color": "#EF553B",
          "size": [
           240
          ],
          "sizemode": "area",
          "sizeref": 3.238024691358025,
          "symbol": "circle"
         },
         "mode": "markers",
         "name": "Italy",
         "showlegend": true,
         "type": "scatter",
         "x": [
          240
         ],
         "xaxis": "x2",
         "y": [
          8
         ],
         "yaxis": "y2"
        },
        {
         "hoverlabel": {
          "namelength": 0
         },
         "hovertemplate": "<b>%{hovertext}</b><br><br>Countries and territories=China<br>Day=1<br>Cases=%{marker.size}<br>Deaths=%{y}",
         "hovertext": [
          "China"
         ],
         "ids": [
          "China"
         ],
         "legendgroup": "China",
         "marker": {
          "color": "#00cc96",
          "size": [
           574
          ],
          "sizemode": "area",
          "sizeref": 3.238024691358025,
          "symbol": "circle"
         },
         "mode": "markers",
         "name": "China",
         "showlegend": true,
         "type": "scatter",
         "x": [
          574
         ],
         "xaxis": "x3",
         "y": [
          35
         ],
         "yaxis": "y3"
        },
        {
         "hoverlabel": {
          "namelength": 0
         },
         "hovertemplate": "<b>%{hovertext}</b><br><br>Countries and territories=Netherlands<br>Day=1<br>Cases=%{marker.size}<br>Deaths=%{y}",
         "hovertext": [
          "Netherlands"
         ],
         "ids": [
          "Netherlands"
         ],
         "legendgroup": "Netherlands",
         "marker": {
          "color": "#ab63fa",
          "size": [
           5
          ],
          "sizemode": "area",
          "sizeref": 3.238024691358025,
          "symbol": "circle"
         },
         "mode": "markers",
         "name": "Netherlands",
         "showlegend": true,
         "type": "scatter",
         "x": [
          5
         ],
         "xaxis": "x4",
         "y": [
          0
         ],
         "yaxis": "y4"
        }
       ],
       "frames": [
        {
         "data": [
          {
           "hoverlabel": {
            "namelength": 0
           },
           "hovertemplate": "<b>%{hovertext}</b><br><br>Countries and territories=Germany<br>Day=1<br>Cases=%{marker.size}<br>Deaths=%{y}",
           "hovertext": [
            "Germany"
           ],
           "ids": [
            "Germany"
           ],
           "legendgroup": "Germany",
           "marker": {
            "color": "#636efa",
            "size": [
             54
            ],
            "sizemode": "area",
            "sizeref": 3.238024691358025,
            "symbol": "circle"
           },
           "mode": "markers",
           "name": "Germany",
           "showlegend": true,
           "type": "scatter",
           "x": [
            54
           ],
           "xaxis": "x",
           "y": [
            0
           ],
           "yaxis": "y"
          },
          {
           "hoverlabel": {
            "namelength": 0
           },
           "hovertemplate": "<b>%{hovertext}</b><br><br>Countries and territories=Italy<br>Day=1<br>Cases=%{marker.size}<br>Deaths=%{y}",
           "hovertext": [
            "Italy"
           ],
           "ids": [
            "Italy"
           ],
           "legendgroup": "Italy",
           "marker": {
            "color": "#EF553B",
            "size": [
             240
            ],
            "sizemode": "area",
            "sizeref": 3.238024691358025,
            "symbol": "circle"
           },
           "mode": "markers",
           "name": "Italy",
           "showlegend": true,
           "type": "scatter",
           "x": [
            240
           ],
           "xaxis": "x2",
           "y": [
            8
           ],
           "yaxis": "y2"
          },
          {
           "hoverlabel": {
            "namelength": 0
           },
           "hovertemplate": "<b>%{hovertext}</b><br><br>Countries and territories=China<br>Day=1<br>Cases=%{marker.size}<br>Deaths=%{y}",
           "hovertext": [
            "China"
           ],
           "ids": [
            "China"
           ],
           "legendgroup": "China",
           "marker": {
            "color": "#00cc96",
            "size": [
             574
            ],
            "sizemode": "area",
            "sizeref": 3.238024691358025,
            "symbol": "circle"
           },
           "mode": "markers",
           "name": "China",
           "showlegend": true,
           "type": "scatter",
           "x": [
            574
           ],
           "xaxis": "x3",
           "y": [
            35
           ],
           "yaxis": "y3"
          },
          {
           "hoverlabel": {
            "namelength": 0
           },
           "hovertemplate": "<b>%{hovertext}</b><br><br>Countries and territories=Netherlands<br>Day=1<br>Cases=%{marker.size}<br>Deaths=%{y}",
           "hovertext": [
            "Netherlands"
           ],
           "ids": [
            "Netherlands"
           ],
           "legendgroup": "Netherlands",
           "marker": {
            "color": "#ab63fa",
            "size": [
             5
            ],
            "sizemode": "area",
            "sizeref": 3.238024691358025,
            "symbol": "circle"
           },
           "mode": "markers",
           "name": "Netherlands",
           "showlegend": true,
           "type": "scatter",
           "x": [
            5
           ],
           "xaxis": "x4",
           "y": [
            0
           ],
           "yaxis": "y4"
          }
         ],
         "name": "1"
        },
        {
         "data": [
          {
           "hoverlabel": {
            "namelength": 0
           },
           "hovertemplate": "<b>%{hovertext}</b><br><br>Countries and territories=Germany<br>Day=2<br>Cases=%{marker.size}<br>Deaths=%{y}",
           "hovertext": [
            "Germany"
           ],
           "ids": [
            "Germany"
           ],
           "legendgroup": "Germany",
           "marker": {
            "color": "#636efa",
            "size": [
             18
            ],
            "sizemode": "area",
            "sizeref": 3.238024691358025,
            "symbol": "circle"
           },
           "mode": "markers",
           "name": "Germany",
           "showlegend": true,
           "type": "scatter",
           "x": [
            18
           ],
           "xaxis": "x",
           "y": [
            0
           ],
           "yaxis": "y"
          },
          {
           "hoverlabel": {
            "namelength": 0
           },
           "hovertemplate": "<b>%{hovertext}</b><br><br>Countries and territories=Italy<br>Day=2<br>Cases=%{marker.size}<br>Deaths=%{y}",
           "hovertext": [
            "Italy"
           ],
           "ids": [
            "Italy"
           ],
           "legendgroup": "Italy",
           "marker": {
            "color": "#EF553B",
            "size": [
             561
            ],
            "sizemode": "area",
            "sizeref": 3.238024691358025,
            "symbol": "circle"
           },
           "mode": "markers",
           "name": "Italy",
           "showlegend": true,
           "type": "scatter",
           "x": [
            561
           ],
           "xaxis": "x2",
           "y": [
            6
           ],
           "yaxis": "y2"
          },
          {
           "hoverlabel": {
            "namelength": 0
           },
           "hovertemplate": "<b>%{hovertext}</b><br><br>Countries and territories=China<br>Day=2<br>Cases=%{marker.size}<br>Deaths=%{y}",
           "hovertext": [
            "China"
           ],
           "ids": [
            "China"
           ],
           "legendgroup": "China",
           "marker": {
            "color": "#00cc96",
            "size": [
             205
            ],
            "sizemode": "area",
            "sizeref": 3.238024691358025,
            "symbol": "circle"
           },
           "mode": "markers",
           "name": "China",
           "showlegend": true,
           "type": "scatter",
           "x": [
            205
           ],
           "xaxis": "x3",
           "y": [
            42
           ],
           "yaxis": "y3"
          },
          {
           "hoverlabel": {
            "namelength": 0
           },
           "hovertemplate": "<b>%{hovertext}</b><br><br>Countries and territories=Netherlands<br>Day=2<br>Cases=%{marker.size}<br>Deaths=%{y}",
           "hovertext": [
            "Netherlands"
           ],
           "ids": [
            "Netherlands"
           ],
           "legendgroup": "Netherlands",
           "marker": {
            "color": "#ab63fa",
            "size": [
             6
            ],
            "sizemode": "area",
            "sizeref": 3.238024691358025,
            "symbol": "circle"
           },
           "mode": "markers",
           "name": "Netherlands",
           "showlegend": true,
           "type": "scatter",
           "x": [
            6
           ],
           "xaxis": "x4",
           "y": [
            0
           ],
           "yaxis": "y4"
          }
         ],
         "name": "2"
        },
        {
         "data": [
          {
           "hoverlabel": {
            "namelength": 0
           },
           "hovertemplate": "<b>%{hovertext}</b><br><br>Countries and territories=Germany<br>Day=3<br>Cases=%{marker.size}<br>Deaths=%{y}",
           "hovertext": [
            "Germany"
           ],
           "ids": [
            "Germany"
           ],
           "legendgroup": "Germany",
           "marker": {
            "color": "#636efa",
            "size": [
             28
            ],
            "sizemode": "area",
            "sizeref": 3.238024691358025,
            "symbol": "circle"
           },
           "mode": "markers",
           "name": "Germany",
           "showlegend": true,
           "type": "scatter",
           "x": [
            28
           ],
           "xaxis": "x",
           "y": [
            0
           ],
           "yaxis": "y"
          },
          {
           "hoverlabel": {
            "namelength": 0
           },
           "hovertemplate": "<b>%{hovertext}</b><br><br>Countries and territories=Italy<br>Day=3<br>Cases=%{marker.size}<br>Deaths=%{y}",
           "hovertext": [
            "Italy"
           ],
           "ids": [
            "Italy"
           ],
           "legendgroup": "Italy",
           "marker": {
            "color": "#EF553B",
            "size": [
             146
            ],
            "sizemode": "area",
            "sizeref": 3.238024691358025,
            "symbol": "circle"
           },
           "mode": "markers",
           "name": "Italy",
           "showlegend": true,
           "type": "scatter",
           "x": [
            146
           ],
           "xaxis": "x2",
           "y": [
            17
           ],
           "yaxis": "y2"
          },
          {
           "hoverlabel": {
            "namelength": 0
           },
           "hovertemplate": "<b>%{hovertext}</b><br><br>Countries and territories=China<br>Day=3<br>Cases=%{marker.size}<br>Deaths=%{y}",
           "hovertext": [
            "China"
           ],
           "ids": [
            "China"
           ],
           "legendgroup": "China",
           "marker": {
            "color": "#00cc96",
            "size": [
             127
            ],
            "sizemode": "area",
            "sizeref": 3.238024691358025,
            "symbol": "circle"
           },
           "mode": "markers",
           "name": "China",
           "showlegend": true,
           "type": "scatter",
           "x": [
            127
           ],
           "xaxis": "x3",
           "y": [
            32
           ],
           "yaxis": "y3"
          },
          {
           "hoverlabel": {
            "namelength": 0
           },
           "hovertemplate": "<b>%{hovertext}</b><br><br>Countries and territories=Netherlands<br>Day=3<br>Cases=%{marker.size}<br>Deaths=%{y}",
           "hovertext": [
            "Netherlands"
           ],
           "ids": [
            "Netherlands"
           ],
           "legendgroup": "Netherlands",
           "marker": {
            "color": "#ab63fa",
            "size": [
             5
            ],
            "sizemode": "area",
            "sizeref": 3.238024691358025,
            "symbol": "circle"
           },
           "mode": "markers",
           "name": "Netherlands",
           "showlegend": true,
           "type": "scatter",
           "x": [
            5
           ],
           "xaxis": "x4",
           "y": [
            0
           ],
           "yaxis": "y4"
          }
         ],
         "name": "3"
        },
        {
         "data": [
          {
           "hoverlabel": {
            "namelength": 0
           },
           "hovertemplate": "<b>%{hovertext}</b><br><br>Countries and territories=Germany<br>Day=4<br>Cases=%{marker.size}<br>Deaths=%{y}",
           "hovertext": [
            "Germany"
           ],
           "ids": [
            "Germany"
           ],
           "legendgroup": "Germany",
           "marker": {
            "color": "#636efa",
            "size": [
             39
            ],
            "sizemode": "area",
            "sizeref": 3.238024691358025,
            "symbol": "circle"
           },
           "mode": "markers",
           "name": "Germany",
           "showlegend": true,
           "type": "scatter",
           "x": [
            39
           ],
           "xaxis": "x",
           "y": [
            0
           ],
           "yaxis": "y"
          },
          {
           "hoverlabel": {
            "namelength": 0
           },
           "hovertemplate": "<b>%{hovertext}</b><br><br>Countries and territories=Italy<br>Day=4<br>Cases=%{marker.size}<br>Deaths=%{y}",
           "hovertext": [
            "Italy"
           ],
           "ids": [
            "Italy"
           ],
           "legendgroup": "Italy",
           "marker": {
            "color": "#EF553B",
            "size": [
             667
            ],
            "sizemode": "area",
            "sizeref": 3.238024691358025,
            "symbol": "circle"
           },
           "mode": "markers",
           "name": "Italy",
           "showlegend": true,
           "type": "scatter",
           "x": [
            667
           ],
           "xaxis": "x2",
           "y": [
            28
           ],
           "yaxis": "y2"
          },
          {
           "hoverlabel": {
            "namelength": 0
           },
           "hovertemplate": "<b>%{hovertext}</b><br><br>Countries and territories=China<br>Day=4<br>Cases=%{marker.size}<br>Deaths=%{y}",
           "hovertext": [
            "China"
           ],
           "ids": [
            "China"
           ],
           "legendgroup": "China",
           "marker": {
            "color": "#00cc96",
            "size": [
             119
            ],
            "sizemode": "area",
            "sizeref": 3.238024691358025,
            "symbol": "circle"
           },
           "mode": "markers",
           "name": "China",
           "showlegend": true,
           "type": "scatter",
           "x": [
            119
           ],
           "xaxis": "x3",
           "y": [
            37
           ],
           "yaxis": "y3"
          },
          {
           "hoverlabel": {
            "namelength": 0
           },
           "hovertemplate": "<b>%{hovertext}</b><br><br>Countries and territories=Netherlands<br>Day=4<br>Cases=%{marker.size}<br>Deaths=%{y}",
           "hovertext": [
            "Netherlands"
           ],
           "ids": [
            "Netherlands"
           ],
           "legendgroup": "Netherlands",
           "marker": {
            "color": "#ab63fa",
            "size": [
             10
            ],
            "sizemode": "area",
            "sizeref": 3.238024691358025,
            "symbol": "circle"
           },
           "mode": "markers",
           "name": "Netherlands",
           "showlegend": true,
           "type": "scatter",
           "x": [
            10
           ],
           "xaxis": "x4",
           "y": [
            0
           ],
           "yaxis": "y4"
          }
         ],
         "name": "4"
        },
        {
         "data": [
          {
           "hoverlabel": {
            "namelength": 0
           },
           "hovertemplate": "<b>%{hovertext}</b><br><br>Countries and territories=Germany<br>Day=5<br>Cases=%{marker.size}<br>Deaths=%{y}",
           "hovertext": [
            "Germany"
           ],
           "ids": [
            "Germany"
           ],
           "legendgroup": "Germany",
           "marker": {
            "color": "#636efa",
            "size": [
             66
            ],
            "sizemode": "area",
            "sizeref": 3.238024691358025,
            "symbol": "circle"
           },
           "mode": "markers",
           "name": "Germany",
           "showlegend": true,
           "type": "scatter",
           "x": [
            66
           ],
           "xaxis": "x",
           "y": [
            0
           ],
           "yaxis": "y"
          },
          {
           "hoverlabel": {
            "namelength": 0
           },
           "hovertemplate": "<b>%{hovertext}</b><br><br>Countries and territories=Italy<br>Day=5<br>Cases=%{marker.size}<br>Deaths=%{y}",
           "hovertext": [
            "Italy"
           ],
           "ids": [
            "Italy"
           ],
           "legendgroup": "Italy",
           "marker": {
            "color": "#EF553B",
            "size": [
             587
            ],
            "sizemode": "area",
            "sizeref": 3.238024691358025,
            "symbol": "circle"
           },
           "mode": "markers",
           "name": "Italy",
           "showlegend": true,
           "type": "scatter",
           "x": [
            587
           ],
           "xaxis": "x2",
           "y": [
            27
           ],
           "yaxis": "y2"
          },
          {
           "hoverlabel": {
            "namelength": 0
           },
           "hovertemplate": "<b>%{hovertext}</b><br><br>Countries and territories=China<br>Day=5<br>Cases=%{marker.size}<br>Deaths=%{y}",
           "hovertext": [
            "China"
           ],
           "ids": [
            "China"
           ],
           "legendgroup": "China",
           "marker": {
            "color": "#00cc96",
            "size": [
             117
            ],
            "sizemode": "area",
            "sizeref": 3.238024691358025,
            "symbol": "circle"
           },
           "mode": "markers",
           "name": "China",
           "showlegend": true,
           "type": "scatter",
           "x": [
            117
           ],
           "xaxis": "x3",
           "y": [
            31
           ],
           "yaxis": "y3"
          },
          {
           "hoverlabel": {
            "namelength": 0
           },
           "hovertemplate": "<b>%{hovertext}</b><br><br>Countries and territories=Netherlands<br>Day=5<br>Cases=%{marker.size}<br>Deaths=%{y}",
           "hovertext": [
            "Netherlands"
           ],
           "ids": [
            "Netherlands"
           ],
           "legendgroup": "Netherlands",
           "marker": {
            "color": "#ab63fa",
            "size": [
             10
            ],
            "sizemode": "area",
            "sizeref": 3.238024691358025,
            "symbol": "circle"
           },
           "mode": "markers",
           "name": "Netherlands",
           "showlegend": true,
           "type": "scatter",
           "x": [
            10
           ],
           "xaxis": "x4",
           "y": [
            0
           ],
           "yaxis": "y4"
          }
         ],
         "name": "5"
        },
        {
         "data": [
          {
           "hoverlabel": {
            "namelength": 0
           },
           "hovertemplate": "<b>%{hovertext}</b><br><br>Countries and territories=Germany<br>Day=6<br>Cases=%{marker.size}<br>Deaths=%{y}",
           "hovertext": [
            "Germany"
           ],
           "ids": [
            "Germany"
           ],
           "legendgroup": "Germany",
           "marker": {
            "color": "#636efa",
            "size": [
             138
            ],
            "sizemode": "area",
            "sizeref": 3.238024691358025,
            "symbol": "circle"
           },
           "mode": "markers",
           "name": "Germany",
           "showlegend": true,
           "type": "scatter",
           "x": [
            138
           ],
           "xaxis": "x",
           "y": [
            0
           ],
           "yaxis": "y"
          },
          {
           "hoverlabel": {
            "namelength": 0
           },
           "hovertemplate": "<b>%{hovertext}</b><br><br>Countries and territories=Italy<br>Day=6<br>Cases=%{marker.size}<br>Deaths=%{y}",
           "hovertext": [
            "Italy"
           ],
           "ids": [
            "Italy"
           ],
           "legendgroup": "Italy",
           "marker": {
            "color": "#EF553B",
            "size": [
             769
            ],
            "sizemode": "area",
            "sizeref": 3.238024691358025,
            "symbol": "circle"
           },
           "mode": "markers",
           "name": "Italy",
           "showlegend": true,
           "type": "scatter",
           "x": [
            769
           ],
           "xaxis": "x2",
           "y": [
            41
           ],
           "yaxis": "y2"
          },
          {
           "hoverlabel": {
            "namelength": 0
           },
           "hovertemplate": "<b>%{hovertext}</b><br><br>Countries and territories=China<br>Day=6<br>Cases=%{marker.size}<br>Deaths=%{y}",
           "hovertext": [
            "China"
           ],
           "ids": [
            "China"
           ],
           "legendgroup": "China",
           "marker": {
            "color": "#00cc96",
            "size": [
             170
            ],
            "sizemode": "area",
            "sizeref": 3.238024691358025,
            "symbol": "circle"
           },
           "mode": "markers",
           "name": "China",
           "showlegend": true,
           "type": "scatter",
           "x": [
            170
           ],
           "xaxis": "x3",
           "y": [
            30
           ],
           "yaxis": "y3"
          },
          {
           "hoverlabel": {
            "namelength": 0
           },
           "hovertemplate": "<b>%{hovertext}</b><br><br>Countries and territories=Netherlands<br>Day=6<br>Cases=%{marker.size}<br>Deaths=%{y}",
           "hovertext": [
            "Netherlands"
           ],
           "ids": [
            "Netherlands"
           ],
           "legendgroup": "Netherlands",
           "marker": {
            "color": "#ab63fa",
            "size": [
             44
            ],
            "sizemode": "area",
            "sizeref": 3.238024691358025,
            "symbol": "circle"
           },
           "mode": "markers",
           "name": "Netherlands",
           "showlegend": true,
           "type": "scatter",
           "x": [
            44
           ],
           "xaxis": "x4",
           "y": [
            0
           ],
           "yaxis": "y4"
          }
         ],
         "name": "6"
        },
        {
         "data": [
          {
           "hoverlabel": {
            "namelength": 0
           },
           "hovertemplate": "<b>%{hovertext}</b><br><br>Countries and territories=Germany<br>Day=7<br>Cases=%{marker.size}<br>Deaths=%{y}",
           "hovertext": [
            "Germany"
           ],
           "ids": [
            "Germany"
           ],
           "legendgroup": "Germany",
           "marker": {
            "color": "#636efa",
            "size": [
             284
            ],
            "sizemode": "area",
            "sizeref": 3.238024691358025,
            "symbol": "circle"
           },
           "mode": "markers",
           "name": "Germany",
           "showlegend": true,
           "type": "scatter",
           "x": [
            284
           ],
           "xaxis": "x",
           "y": [
            0
           ],
           "yaxis": "y"
          },
          {
           "hoverlabel": {
            "namelength": 0
           },
           "hovertemplate": "<b>%{hovertext}</b><br><br>Countries and territories=Italy<br>Day=7<br>Cases=%{marker.size}<br>Deaths=%{y}",
           "hovertext": [
            "Italy"
           ],
           "ids": [
            "Italy"
           ],
           "legendgroup": "Italy",
           "marker": {
            "color": "#EF553B",
            "size": [
             778
            ],
            "sizemode": "area",
            "sizeref": 3.238024691358025,
            "symbol": "circle"
           },
           "mode": "markers",
           "name": "Italy",
           "showlegend": true,
           "type": "scatter",
           "x": [
            778
           ],
           "xaxis": "x2",
           "y": [
            49
           ],
           "yaxis": "y2"
          },
          {
           "hoverlabel": {
            "namelength": 0
           },
           "hovertemplate": "<b>%{hovertext}</b><br><br>Countries and territories=China<br>Day=7<br>Cases=%{marker.size}<br>Deaths=%{y}",
           "hovertext": [
            "China"
           ],
           "ids": [
            "China"
           ],
           "legendgroup": "China",
           "marker": {
            "color": "#00cc96",
            "size": [
             101
            ],
            "sizemode": "area",
            "sizeref": 3.238024691358025,
            "symbol": "circle"
           },
           "mode": "markers",
           "name": "China",
           "showlegend": true,
           "type": "scatter",
           "x": [
            101
           ],
           "xaxis": "x3",
           "y": [
            28
           ],
           "yaxis": "y3"
          },
          {
           "hoverlabel": {
            "namelength": 0
           },
           "hovertemplate": "<b>%{hovertext}</b><br><br>Countries and territories=Netherlands<br>Day=7<br>Cases=%{marker.size}<br>Deaths=%{y}",
           "hovertext": [
            "Netherlands"
           ],
           "ids": [
            "Netherlands"
           ],
           "legendgroup": "Netherlands",
           "marker": {
            "color": "#ab63fa",
            "size": [
             46
            ],
            "sizemode": "area",
            "sizeref": 3.238024691358025,
            "symbol": "circle"
           },
           "mode": "markers",
           "name": "Netherlands",
           "showlegend": true,
           "type": "scatter",
           "x": [
            46
           ],
           "xaxis": "x4",
           "y": [
            1
           ],
           "yaxis": "y4"
          }
         ],
         "name": "7"
        },
        {
         "data": [
          {
           "hoverlabel": {
            "namelength": 0
           },
           "hovertemplate": "<b>%{hovertext}</b><br><br>Countries and territories=Germany<br>Day=8<br>Cases=%{marker.size}<br>Deaths=%{y}",
           "hovertext": [
            "Germany"
           ],
           "ids": [
            "Germany"
           ],
           "legendgroup": "Germany",
           "marker": {
            "color": "#636efa",
            "size": [
             163
            ],
            "sizemode": "area",
            "sizeref": 3.238024691358025,
            "symbol": "circle"
           },
           "mode": "markers",
           "name": "Germany",
           "showlegend": true,
           "type": "scatter",
           "x": [
            163
           ],
           "xaxis": "x",
           "y": [
            0
           ],
           "yaxis": "y"
          },
          {
           "hoverlabel": {
            "namelength": 0
           },
           "hovertemplate": "<b>%{hovertext}</b><br><br>Countries and territories=Italy<br>Day=8<br>Cases=%{marker.size}<br>Deaths=%{y}",
           "hovertext": [
            "Italy"
           ],
           "ids": [
            "Italy"
           ],
           "legendgroup": "Italy",
           "marker": {
            "color": "#EF553B",
            "size": [
             1247
            ],
            "sizemode": "area",
            "sizeref": 3.238024691358025,
            "symbol": "circle"
           },
           "mode": "markers",
           "name": "Italy",
           "showlegend": true,
           "type": "scatter",
           "x": [
            1247
           ],
           "xaxis": "x2",
           "y": [
            36
           ],
           "yaxis": "y2"
          },
          {
           "hoverlabel": {
            "namelength": 0
           },
           "hovertemplate": "<b>%{hovertext}</b><br><br>Countries and territories=China<br>Day=8<br>Cases=%{marker.size}<br>Deaths=%{y}",
           "hovertext": [
            "China"
           ],
           "ids": [
            "China"
           ],
           "legendgroup": "China",
           "marker": {
            "color": "#00cc96",
            "size": [
             46
            ],
            "sizemode": "area",
            "sizeref": 3.238024691358025,
            "symbol": "circle"
           },
           "mode": "markers",
           "name": "China",
           "showlegend": true,
           "type": "scatter",
           "x": [
            46
           ],
           "xaxis": "x3",
           "y": [
            27
           ],
           "yaxis": "y3"
          },
          {
           "hoverlabel": {
            "namelength": 0
           },
           "hovertemplate": "<b>%{hovertext}</b><br><br>Countries and territories=Netherlands<br>Day=8<br>Cases=%{marker.size}<br>Deaths=%{y}",
           "hovertext": [
            "Netherlands"
           ],
           "ids": [
            "Netherlands"
           ],
           "legendgroup": "Netherlands",
           "marker": {
            "color": "#ab63fa",
            "size": [
             60
            ],
            "sizemode": "area",
            "sizeref": 3.238024691358025,
            "symbol": "circle"
           },
           "mode": "markers",
           "name": "Netherlands",
           "showlegend": true,
           "type": "scatter",
           "x": [
            60
           ],
           "xaxis": "x4",
           "y": [
            0
           ],
           "yaxis": "y4"
          }
         ],
         "name": "8"
        },
        {
         "data": [
          {
           "hoverlabel": {
            "namelength": 0
           },
           "hovertemplate": "<b>%{hovertext}</b><br><br>Countries and territories=Germany<br>Day=9<br>Cases=%{marker.size}<br>Deaths=%{y}",
           "hovertext": [
            "Germany"
           ],
           "ids": [
            "Germany"
           ],
           "legendgroup": "Germany",
           "marker": {
            "color": "#636efa",
            "size": [
             55
            ],
            "sizemode": "area",
            "sizeref": 3.238024691358025,
            "symbol": "circle"
           },
           "mode": "markers",
           "name": "Germany",
           "showlegend": true,
           "type": "scatter",
           "x": [
            55
           ],
           "xaxis": "x",
           "y": [
            0
           ],
           "yaxis": "y"
          },
          {
           "hoverlabel": {
            "namelength": 0
           },
           "hovertemplate": "<b>%{hovertext}</b><br><br>Countries and territories=Italy<br>Day=9<br>Cases=%{marker.size}<br>Deaths=%{y}",
           "hovertext": [
            "Italy"
           ],
           "ids": [
            "Italy"
           ],
           "legendgroup": "Italy",
           "marker": {
            "color": "#EF553B",
            "size": [
             1492
            ],
            "sizemode": "area",
            "sizeref": 3.238024691358025,
            "symbol": "circle"
           },
           "mode": "markers",
           "name": "Italy",
           "showlegend": true,
           "type": "scatter",
           "x": [
            1492
           ],
           "xaxis": "x2",
           "y": [
            133
           ],
           "yaxis": "y2"
          },
          {
           "hoverlabel": {
            "namelength": 0
           },
           "hovertemplate": "<b>%{hovertext}</b><br><br>Countries and territories=China<br>Day=9<br>Cases=%{marker.size}<br>Deaths=%{y}",
           "hovertext": [
            "China"
           ],
           "ids": [
            "China"
           ],
           "legendgroup": "China",
           "marker": {
            "color": "#00cc96",
            "size": [
             45
            ],
            "sizemode": "area",
            "sizeref": 3.238024691358025,
            "symbol": "circle"
           },
           "mode": "markers",
           "name": "China",
           "showlegend": true,
           "type": "scatter",
           "x": [
            45
           ],
           "xaxis": "x3",
           "y": [
            23
           ],
           "yaxis": "y3"
          },
          {
           "hoverlabel": {
            "namelength": 0
           },
           "hovertemplate": "<b>%{hovertext}</b><br><br>Countries and territories=Netherlands<br>Day=9<br>Cases=%{marker.size}<br>Deaths=%{y}",
           "hovertext": [
            "Netherlands"
           ],
           "ids": [
            "Netherlands"
           ],
           "legendgroup": "Netherlands",
           "marker": {
            "color": "#ab63fa",
            "size": [
             77
            ],
            "sizemode": "area",
            "sizeref": 3.238024691358025,
            "symbol": "circle"
           },
           "mode": "markers",
           "name": "Netherlands",
           "showlegend": true,
           "type": "scatter",
           "x": [
            77
           ],
           "xaxis": "x4",
           "y": [
            2
           ],
           "yaxis": "y4"
          }
         ],
         "name": "9"
        },
        {
         "data": [
          {
           "hoverlabel": {
            "namelength": 0
           },
           "hovertemplate": "<b>%{hovertext}</b><br><br>Countries and territories=Germany<br>Day=10<br>Cases=%{marker.size}<br>Deaths=%{y}",
           "hovertext": [
            "Germany"
           ],
           "ids": [
            "Germany"
           ],
           "legendgroup": "Germany",
           "marker": {
            "color": "#636efa",
            "size": [
             237
            ],
            "sizemode": "area",
            "sizeref": 3.238024691358025,
            "symbol": "circle"
           },
           "mode": "markers",
           "name": "Germany",
           "showlegend": true,
           "type": "scatter",
           "x": [
            237
           ],
           "xaxis": "x",
           "y": [
            2
           ],
           "yaxis": "y"
          },
          {
           "hoverlabel": {
            "namelength": 0
           },
           "hovertemplate": "<b>%{hovertext}</b><br><br>Countries and territories=Italy<br>Day=10<br>Cases=%{marker.size}<br>Deaths=%{y}",
           "hovertext": [
            "Italy"
           ],
           "ids": [
            "Italy"
           ],
           "legendgroup": "Italy",
           "marker": {
            "color": "#EF553B",
            "size": [
             1797
            ],
            "sizemode": "area",
            "sizeref": 3.238024691358025,
            "symbol": "circle"
           },
           "mode": "markers",
           "name": "Italy",
           "showlegend": true,
           "type": "scatter",
           "x": [
            1797
           ],
           "xaxis": "x2",
           "y": [
            98
           ],
           "yaxis": "y2"
          },
          {
           "hoverlabel": {
            "namelength": 0
           },
           "hovertemplate": "<b>%{hovertext}</b><br><br>Countries and territories=China<br>Day=10<br>Cases=%{marker.size}<br>Deaths=%{y}",
           "hovertext": [
            "China"
           ],
           "ids": [
            "China"
           ],
           "legendgroup": "China",
           "marker": {
            "color": "#00cc96",
            "size": [
             20
            ],
            "sizemode": "area",
            "sizeref": 3.238024691358025,
            "symbol": "circle"
           },
           "mode": "markers",
           "name": "China",
           "showlegend": true,
           "type": "scatter",
           "x": [
            20
           ],
           "xaxis": "x3",
           "y": [
            17
           ],
           "yaxis": "y3"
          },
          {
           "hoverlabel": {
            "namelength": 0
           },
           "hovertemplate": "<b>%{hovertext}</b><br><br>Countries and territories=Netherlands<br>Day=10<br>Cases=%{marker.size}<br>Deaths=%{y}",
           "hovertext": [
            "Netherlands"
           ],
           "ids": [
            "Netherlands"
           ],
           "legendgroup": "Netherlands",
           "marker": {
            "color": "#ab63fa",
            "size": [
             56
            ],
            "sizemode": "area",
            "sizeref": 3.238024691358025,
            "symbol": "circle"
           },
           "mode": "markers",
           "name": "Netherlands",
           "showlegend": true,
           "type": "scatter",
           "x": [
            56
           ],
           "xaxis": "x4",
           "y": [
            0
           ],
           "yaxis": "y4"
          }
         ],
         "name": "10"
        },
        {
         "data": [
          {
           "hoverlabel": {
            "namelength": 0
           },
           "hovertemplate": "<b>%{hovertext}</b><br><br>Countries and territories=Germany<br>Day=11<br>Cases=%{marker.size}<br>Deaths=%{y}",
           "hovertext": [
            "Germany"
           ],
           "ids": [
            "Germany"
           ],
           "legendgroup": "Germany",
           "marker": {
            "color": "#636efa",
            "size": [
             157
            ],
            "sizemode": "area",
            "sizeref": 3.238024691358025,
            "symbol": "circle"
           },
           "mode": "markers",
           "name": "Germany",
           "showlegend": true,
           "type": "scatter",
           "x": [
            157
           ],
           "xaxis": "x",
           "y": [
            0
           ],
           "yaxis": "y"
          },
          {
           "hoverlabel": {
            "namelength": 0
           },
           "hovertemplate": "<b>%{hovertext}</b><br><br>Countries and territories=Italy<br>Day=11<br>Cases=%{marker.size}<br>Deaths=%{y}",
           "hovertext": [
            "Italy"
           ],
           "ids": [
            "Italy"
           ],
           "legendgroup": "Italy",
           "marker": {
            "color": "#EF553B",
            "size": [
             977
            ],
            "sizemode": "area",
            "sizeref": 3.238024691358025,
            "symbol": "circle"
           },
           "mode": "markers",
           "name": "Italy",
           "showlegend": true,
           "type": "scatter",
           "x": [
            977
           ],
           "xaxis": "x2",
           "y": [
            167
           ],
           "yaxis": "y2"
          },
          {
           "hoverlabel": {
            "namelength": 0
           },
           "hovertemplate": "<b>%{hovertext}</b><br><br>Countries and territories=China<br>Day=11<br>Cases=%{marker.size}<br>Deaths=%{y}",
           "hovertext": [
            "China"
           ],
           "ids": [
            "China"
           ],
           "legendgroup": "China",
           "marker": {
            "color": "#00cc96",
            "size": [
             29
            ],
            "sizemode": "area",
            "sizeref": 3.238024691358025,
            "symbol": "circle"
           },
           "mode": "markers",
           "name": "China",
           "showlegend": true,
           "type": "scatter",
           "x": [
            29
           ],
           "xaxis": "x3",
           "y": [
            22
           ],
           "yaxis": "y3"
          },
          {
           "hoverlabel": {
            "namelength": 0
           },
           "hovertemplate": "<b>%{hovertext}</b><br><br>Countries and territories=Netherlands<br>Day=11<br>Cases=%{marker.size}<br>Deaths=%{y}",
           "hovertext": [
            "Netherlands"
           ],
           "ids": [
            "Netherlands"
           ],
           "legendgroup": "Netherlands",
           "marker": {
            "color": "#ab63fa",
            "size": [
             61
            ],
            "sizemode": "area",
            "sizeref": 3.238024691358025,
            "symbol": "circle"
           },
           "mode": "markers",
           "name": "Netherlands",
           "showlegend": true,
           "type": "scatter",
           "x": [
            61
           ],
           "xaxis": "x4",
           "y": [
            1
           ],
           "yaxis": "y4"
          }
         ],
         "name": "11"
        },
        {
         "data": [
          {
           "hoverlabel": {
            "namelength": 0
           },
           "hovertemplate": "<b>%{hovertext}</b><br><br>Countries and territories=Germany<br>Day=12<br>Cases=%{marker.size}<br>Deaths=%{y}",
           "hovertext": [
            "Germany"
           ],
           "ids": [
            "Germany"
           ],
           "legendgroup": "Germany",
           "marker": {
            "color": "#636efa",
            "size": [
             271
            ],
            "sizemode": "area",
            "sizeref": 3.238024691358025,
            "symbol": "circle"
           },
           "mode": "markers",
           "name": "Germany",
           "showlegend": true,
           "type": "scatter",
           "x": [
            271
           ],
           "xaxis": "x",
           "y": [
            1
           ],
           "yaxis": "y"
          },
          {
           "hoverlabel": {
            "namelength": 0
           },
           "hovertemplate": "<b>%{hovertext}</b><br><br>Countries and territories=Italy<br>Day=12<br>Cases=%{marker.size}<br>Deaths=%{y}",
           "hovertext": [
            "Italy"
           ],
           "ids": [
            "Italy"
           ],
           "legendgroup": "Italy",
           "marker": {
            "color": "#EF553B",
            "size": [
             2313
            ],
            "sizemode": "area",
            "sizeref": 3.238024691358025,
            "symbol": "circle"
           },
           "mode": "markers",
           "name": "Italy",
           "showlegend": true,
           "type": "scatter",
           "x": [
            2313
           ],
           "xaxis": "x2",
           "y": [
            196
           ],
           "yaxis": "y2"
          },
          {
           "hoverlabel": {
            "namelength": 0
           },
           "hovertemplate": "<b>%{hovertext}</b><br><br>Countries and territories=China<br>Day=12<br>Cases=%{marker.size}<br>Deaths=%{y}",
           "hovertext": [
            "China"
           ],
           "ids": [
            "China"
           ],
           "legendgroup": "China",
           "marker": {
            "color": "#00cc96",
            "size": [
             24
            ],
            "sizemode": "area",
            "sizeref": 3.238024691358025,
            "symbol": "circle"
           },
           "mode": "markers",
           "name": "China",
           "showlegend": true,
           "type": "scatter",
           "x": [
            24
           ],
           "xaxis": "x3",
           "y": [
            11
           ],
           "yaxis": "y3"
          },
          {
           "hoverlabel": {
            "namelength": 0
           },
           "hovertemplate": "<b>%{hovertext}</b><br><br>Countries and territories=Netherlands<br>Day=12<br>Cases=%{marker.size}<br>Deaths=%{y}",
           "hovertext": [
            "Netherlands"
           ],
           "ids": [
            "Netherlands"
           ],
           "legendgroup": "Netherlands",
           "marker": {
            "color": "#ab63fa",
            "size": [
             121
            ],
            "sizemode": "area",
            "sizeref": 3.238024691358025,
            "symbol": "circle"
           },
           "mode": "markers",
           "name": "Netherlands",
           "showlegend": true,
           "type": "scatter",
           "x": [
            121
           ],
           "xaxis": "x4",
           "y": [
            1
           ],
           "yaxis": "y4"
          }
         ],
         "name": "12"
        },
        {
         "data": [
          {
           "hoverlabel": {
            "namelength": 0
           },
           "hovertemplate": "<b>%{hovertext}</b><br><br>Countries and territories=Germany<br>Day=13<br>Cases=%{marker.size}<br>Deaths=%{y}",
           "hovertext": [
            "Germany"
           ],
           "ids": [
            "Germany"
           ],
           "legendgroup": "Germany",
           "marker": {
            "color": "#636efa",
            "size": [
             802
            ],
            "sizemode": "area",
            "sizeref": 3.238024691358025,
            "symbol": "circle"
           },
           "mode": "markers",
           "name": "Germany",
           "showlegend": true,
           "type": "scatter",
           "x": [
            802
           ],
           "xaxis": "x",
           "y": [
            2
           ],
           "yaxis": "y"
          },
          {
           "hoverlabel": {
            "namelength": 0
           },
           "hovertemplate": "<b>%{hovertext}</b><br><br>Countries and territories=Italy<br>Day=13<br>Cases=%{marker.size}<br>Deaths=%{y}",
           "hovertext": [
            "Italy"
           ],
           "ids": [
            "Italy"
           ],
           "legendgroup": "Italy",
           "marker": {
            "color": "#EF553B",
            "size": [
             2651
            ],
            "sizemode": "area",
            "sizeref": 3.238024691358025,
            "symbol": "circle"
           },
           "mode": "markers",
           "name": "Italy",
           "showlegend": true,
           "type": "scatter",
           "x": [
            2651
           ],
           "xaxis": "x2",
           "y": [
            189
           ],
           "yaxis": "y2"
          },
          {
           "hoverlabel": {
            "namelength": 0
           },
           "hovertemplate": "<b>%{hovertext}</b><br><br>Countries and territories=China<br>Day=13<br>Cases=%{marker.size}<br>Deaths=%{y}",
           "hovertext": [
            "China"
           ],
           "ids": [
            "China"
           ],
           "legendgroup": "China",
           "marker": {
            "color": "#00cc96",
            "size": [
             22
            ],
            "sizemode": "area",
            "sizeref": 3.238024691358025,
            "symbol": "circle"
           },
           "mode": "markers",
           "name": "China",
           "showlegend": true,
           "type": "scatter",
           "x": [
            22
           ],
           "xaxis": "x3",
           "y": [
            7
           ],
           "yaxis": "y3"
          },
          {
           "hoverlabel": {
            "namelength": 0
           },
           "hovertemplate": "<b>%{hovertext}</b><br><br>Countries and territories=Netherlands<br>Day=13<br>Cases=%{marker.size}<br>Deaths=%{y}",
           "hovertext": [
            "Netherlands"
           ],
           "ids": [
            "Netherlands"
           ],
           "legendgroup": "Netherlands",
           "marker": {
            "color": "#ab63fa",
            "size": [
             111
            ],
            "sizemode": "area",
            "sizeref": 3.238024691358025,
            "symbol": "circle"
           },
           "mode": "markers",
           "name": "Netherlands",
           "showlegend": true,
           "type": "scatter",
           "x": [
            111
           ],
           "xaxis": "x4",
           "y": [
            0
           ],
           "yaxis": "y4"
          }
         ],
         "name": "13"
        },
        {
         "data": [
          {
           "hoverlabel": {
            "namelength": 0
           },
           "hovertemplate": "<b>%{hovertext}</b><br><br>Countries and territories=Germany<br>Day=14<br>Cases=%{marker.size}<br>Deaths=%{y}",
           "hovertext": [
            "Germany"
           ],
           "ids": [
            "Germany"
           ],
           "legendgroup": "Germany",
           "marker": {
            "color": "#636efa",
            "size": [
             693
            ],
            "sizemode": "area",
            "sizeref": 3.238024691358025,
            "symbol": "circle"
           },
           "mode": "markers",
           "name": "Germany",
           "showlegend": true,
           "type": "scatter",
           "x": [
            693
           ],
           "xaxis": "x",
           "y": [
            0
           ],
           "yaxis": "y"
          },
          {
           "hoverlabel": {
            "namelength": 0
           },
           "hovertemplate": "<b>%{hovertext}</b><br><br>Countries and territories=Italy<br>Day=14<br>Cases=%{marker.size}<br>Deaths=%{y}",
           "hovertext": [
            "Italy"
           ],
           "ids": [
            "Italy"
           ],
           "legendgroup": "Italy",
           "marker": {
            "color": "#EF553B",
            "size": [
             2547
            ],
            "sizemode": "area",
            "sizeref": 3.238024691358025,
            "symbol": "circle"
           },
           "mode": "markers",
           "name": "Italy",
           "showlegend": true,
           "type": "scatter",
           "x": [
            2547
           ],
           "xaxis": "x2",
           "y": [
            252
           ],
           "yaxis": "y2"
          },
          {
           "hoverlabel": {
            "namelength": 0
           },
           "hovertemplate": "<b>%{hovertext}</b><br><br>Countries and territories=China<br>Day=14<br>Cases=%{marker.size}<br>Deaths=%{y}",
           "hovertext": [
            "China"
           ],
           "ids": [
            "China"
           ],
           "legendgroup": "China",
           "marker": {
            "color": "#00cc96",
            "size": [
             19
            ],
            "sizemode": "area",
            "sizeref": 3.238024691358025,
            "symbol": "circle"
           },
           "mode": "markers",
           "name": "China",
           "showlegend": true,
           "type": "scatter",
           "x": [
            19
           ],
           "xaxis": "x3",
           "y": [
            15
           ],
           "yaxis": "y3"
          },
          {
           "hoverlabel": {
            "namelength": 0
           },
           "hovertemplate": "<b>%{hovertext}</b><br><br>Countries and territories=Netherlands<br>Day=14<br>Cases=%{marker.size}<br>Deaths=%{y}",
           "hovertext": [
            "Netherlands"
           ],
           "ids": [
            "Netherlands"
           ],
           "legendgroup": "Netherlands",
           "marker": {
            "color": "#ab63fa",
            "size": [
             190
            ],
            "sizemode": "area",
            "sizeref": 3.238024691358025,
            "symbol": "circle"
           },
           "mode": "markers",
           "name": "Netherlands",
           "showlegend": true,
           "type": "scatter",
           "x": [
            190
           ],
           "xaxis": "x4",
           "y": [
            0
           ],
           "yaxis": "y4"
          }
         ],
         "name": "14"
        },
        {
         "data": [
          {
           "hoverlabel": {
            "namelength": 0
           },
           "hovertemplate": "<b>%{hovertext}</b><br><br>Countries and territories=Germany<br>Day=15<br>Cases=%{marker.size}<br>Deaths=%{y}",
           "hovertext": [
            "Germany"
           ],
           "ids": [
            "Germany"
           ],
           "legendgroup": "Germany",
           "marker": {
            "color": "#636efa",
            "size": [
             733
            ],
            "sizemode": "area",
            "sizeref": 3.238024691358025,
            "symbol": "circle"
           },
           "mode": "markers",
           "name": "Germany",
           "showlegend": true,
           "type": "scatter",
           "x": [
            733
           ],
           "xaxis": "x",
           "y": [
            3
           ],
           "yaxis": "y"
          },
          {
           "hoverlabel": {
            "namelength": 0
           },
           "hovertemplate": "<b>%{hovertext}</b><br><br>Countries and territories=Italy<br>Day=15<br>Cases=%{marker.size}<br>Deaths=%{y}",
           "hovertext": [
            "Italy"
           ],
           "ids": [
            "Italy"
           ],
           "legendgroup": "Italy",
           "marker": {
            "color": "#EF553B",
            "size": [
             90
            ],
            "sizemode": "area",
            "sizeref": 3.238024691358025,
            "symbol": "circle"
           },
           "mode": "markers",
           "name": "Italy",
           "showlegend": true,
           "type": "scatter",
           "x": [
            90
           ],
           "xaxis": "x2",
           "y": [
            173
           ],
           "yaxis": "y2"
          },
          {
           "hoverlabel": {
            "namelength": 0
           },
           "hovertemplate": "<b>%{hovertext}</b><br><br>Countries and territories=China<br>Day=15<br>Cases=%{marker.size}<br>Deaths=%{y}",
           "hovertext": [
            "China"
           ],
           "ids": [
            "China"
           ],
           "legendgroup": "China",
           "marker": {
            "color": "#00cc96",
            "size": [
             22
            ],
            "sizemode": "area",
            "sizeref": 3.238024691358025,
            "symbol": "circle"
           },
           "mode": "markers",
           "name": "China",
           "showlegend": true,
           "type": "scatter",
           "x": [
            22
           ],
           "xaxis": "x3",
           "y": [
            9
           ],
           "yaxis": "y3"
          },
          {
           "hoverlabel": {
            "namelength": 0
           },
           "hovertemplate": "<b>%{hovertext}</b><br><br>Countries and territories=Netherlands<br>Day=15<br>Cases=%{marker.size}<br>Deaths=%{y}",
           "hovertext": [
            "Netherlands"
           ],
           "ids": [
            "Netherlands"
           ],
           "legendgroup": "Netherlands",
           "marker": {
            "color": "#ab63fa",
            "size": [
             155
            ],
            "sizemode": "area",
            "sizeref": 3.238024691358025,
            "symbol": "circle"
           },
           "mode": "markers",
           "name": "Netherlands",
           "showlegend": true,
           "type": "scatter",
           "x": [
            155
           ],
           "xaxis": "x4",
           "y": [
            7
           ],
           "yaxis": "y4"
          }
         ],
         "name": "15"
        },
        {
         "data": [
          {
           "hoverlabel": {
            "namelength": 0
           },
           "hovertemplate": "<b>%{hovertext}</b><br><br>Countries and territories=Germany<br>Day=16<br>Cases=%{marker.size}<br>Deaths=%{y}",
           "hovertext": [
            "Germany"
           ],
           "ids": [
            "Germany"
           ],
           "legendgroup": "Germany",
           "marker": {
            "color": "#636efa",
            "size": [
             1043
            ],
            "sizemode": "area",
            "sizeref": 3.238024691358025,
            "symbol": "circle"
           },
           "mode": "markers",
           "name": "Germany",
           "showlegend": true,
           "type": "scatter",
           "x": [
            1043
           ],
           "xaxis": "x",
           "y": [
            4
           ],
           "yaxis": "y"
          },
          {
           "hoverlabel": {
            "namelength": 0
           },
           "hovertemplate": "<b>%{hovertext}</b><br><br>Countries and territories=Italy<br>Day=16<br>Cases=%{marker.size}<br>Deaths=%{y}",
           "hovertext": [
            "Italy"
           ],
           "ids": [
            "Italy"
           ],
           "legendgroup": "Italy",
           "marker": {
            "color": "#EF553B",
            "size": [
             6230
            ],
            "sizemode": "area",
            "sizeref": 3.238024691358025,
            "symbol": "circle"
           },
           "mode": "markers",
           "name": "Italy",
           "showlegend": true,
           "type": "scatter",
           "x": [
            6230
           ],
           "xaxis": "x2",
           "y": [
            370
           ],
           "yaxis": "y2"
          },
          {
           "hoverlabel": {
            "namelength": 0
           },
           "hovertemplate": "<b>%{hovertext}</b><br><br>Countries and territories=China<br>Day=16<br>Cases=%{marker.size}<br>Deaths=%{y}",
           "hovertext": [
            "China"
           ],
           "ids": [
            "China"
           ],
           "legendgroup": "China",
           "marker": {
            "color": "#00cc96",
            "size": [
             25
            ],
            "sizemode": "area",
            "sizeref": 3.238024691358025,
            "symbol": "circle"
           },
           "mode": "markers",
           "name": "China",
           "showlegend": true,
           "type": "scatter",
           "x": [
            25
           ],
           "xaxis": "x3",
           "y": [
            14
           ],
           "yaxis": "y3"
          },
          {
           "hoverlabel": {
            "namelength": 0
           },
           "hovertemplate": "<b>%{hovertext}</b><br><br>Countries and territories=Netherlands<br>Day=16<br>Cases=%{marker.size}<br>Deaths=%{y}",
           "hovertext": [
            "Netherlands"
           ],
           "ids": [
            "Netherlands"
           ],
           "legendgroup": "Netherlands",
           "marker": {
            "color": "#ab63fa",
            "size": [
             176
            ],
            "sizemode": "area",
            "sizeref": 3.238024691358025,
            "symbol": "circle"
           },
           "mode": "markers",
           "name": "Netherlands",
           "showlegend": true,
           "type": "scatter",
           "x": [
            176
           ],
           "xaxis": "x4",
           "y": [
            8
           ],
           "yaxis": "y4"
          }
         ],
         "name": "16"
        },
        {
         "data": [
          {
           "hoverlabel": {
            "namelength": 0
           },
           "hovertemplate": "<b>%{hovertext}</b><br><br>Countries and territories=Germany<br>Day=17<br>Cases=%{marker.size}<br>Deaths=%{y}",
           "hovertext": [
            "Germany"
           ],
           "ids": [
            "Germany"
           ],
           "legendgroup": "Germany",
           "marker": {
            "color": "#636efa",
            "size": [
             1174
            ],
            "sizemode": "area",
            "sizeref": 3.238024691358025,
            "symbol": "circle"
           },
           "mode": "markers",
           "name": "Germany",
           "showlegend": true,
           "type": "scatter",
           "x": [
            1174
           ],
           "xaxis": "x",
           "y": [
            1
           ],
           "yaxis": "y"
          },
          {
           "hoverlabel": {
            "namelength": 0
           },
           "hovertemplate": "<b>%{hovertext}</b><br><br>Countries and territories=Italy<br>Day=17<br>Cases=%{marker.size}<br>Deaths=%{y}",
           "hovertext": [
            "Italy"
           ],
           "ids": [
            "Italy"
           ],
           "legendgroup": "Italy",
           "marker": {
            "color": "#EF553B",
            "size": [
             4000
            ],
            "sizemode": "area",
            "sizeref": 3.238024691358025,
            "symbol": "circle"
           },
           "mode": "markers",
           "name": "Italy",
           "showlegend": true,
           "type": "scatter",
           "x": [
            4000
           ],
           "xaxis": "x2",
           "y": [
            347
           ],
           "yaxis": "y2"
          },
          {
           "hoverlabel": {
            "namelength": 0
           },
           "hovertemplate": "<b>%{hovertext}</b><br><br>Countries and territories=China<br>Day=17<br>Cases=%{marker.size}<br>Deaths=%{y}",
           "hovertext": [
            "China"
           ],
           "ids": [
            "China"
           ],
           "legendgroup": "China",
           "marker": {
            "color": "#00cc96",
            "size": [
             110
            ],
            "sizemode": "area",
            "sizeref": 3.238024691358025,
            "symbol": "circle"
           },
           "mode": "markers",
           "name": "China",
           "showlegend": true,
           "type": "scatter",
           "x": [
            110
           ],
           "xaxis": "x3",
           "y": [
            9
           ],
           "yaxis": "y3"
          },
          {
           "hoverlabel": {
            "namelength": 0
           },
           "hovertemplate": "<b>%{hovertext}</b><br><br>Countries and territories=Netherlands<br>Day=17<br>Cases=%{marker.size}<br>Deaths=%{y}",
           "hovertext": [
            "Netherlands"
           ],
           "ids": [
            "Netherlands"
           ],
           "legendgroup": "Netherlands",
           "marker": {
            "color": "#ab63fa",
            "size": [
             278
            ],
            "sizemode": "area",
            "sizeref": 3.238024691358025,
            "symbol": "circle"
           },
           "mode": "markers",
           "name": "Netherlands",
           "showlegend": true,
           "type": "scatter",
           "x": [
            278
           ],
           "xaxis": "x4",
           "y": [
            4
           ],
           "yaxis": "y4"
          }
         ],
         "name": "17"
        },
        {
         "data": [
          {
           "hoverlabel": {
            "namelength": 0
           },
           "hovertemplate": "<b>%{hovertext}</b><br><br>Countries and territories=Germany<br>Day=18<br>Cases=%{marker.size}<br>Deaths=%{y}",
           "hovertext": [
            "Germany"
           ],
           "ids": [
            "Germany"
           ],
           "legendgroup": "Germany",
           "marker": {
            "color": "#636efa",
            "size": [
             1144
            ],
            "sizemode": "area",
            "sizeref": 3.238024691358025,
            "symbol": "circle"
           },
           "mode": "markers",
           "name": "Germany",
           "showlegend": true,
           "type": "scatter",
           "x": [
            1144
           ],
           "xaxis": "x",
           "y": [
            0
           ],
           "yaxis": "y"
          },
          {
           "hoverlabel": {
            "namelength": 0
           },
           "hovertemplate": "<b>%{hovertext}</b><br><br>Countries and territories=Italy<br>Day=18<br>Cases=%{marker.size}<br>Deaths=%{y}",
           "hovertext": [
            "Italy"
           ],
           "ids": [
            "Italy"
           ],
           "legendgroup": "Italy",
           "marker": {
            "color": "#EF553B",
            "size": [
             3526
            ],
            "sizemode": "area",
            "sizeref": 3.238024691358025,
            "symbol": "circle"
           },
           "mode": "markers",
           "name": "Italy",
           "showlegend": true,
           "type": "scatter",
           "x": [
            3526
           ],
           "xaxis": "x2",
           "y": [
            347
           ],
           "yaxis": "y2"
          },
          {
           "hoverlabel": {
            "namelength": 0
           },
           "hovertemplate": "<b>%{hovertext}</b><br><br>Countries and territories=China<br>Day=18<br>Cases=%{marker.size}<br>Deaths=%{y}",
           "hovertext": [
            "China"
           ],
           "ids": [
            "China"
           ],
           "legendgroup": "China",
           "marker": {
            "color": "#00cc96",
            "size": [
             33
            ],
            "sizemode": "area",
            "sizeref": 3.238024691358025,
            "symbol": "circle"
           },
           "mode": "markers",
           "name": "China",
           "showlegend": true,
           "type": "scatter",
           "x": [
            33
           ],
           "xaxis": "x3",
           "y": [
            16
           ],
           "yaxis": "y3"
          },
          {
           "hoverlabel": {
            "namelength": 0
           },
           "hovertemplate": "<b>%{hovertext}</b><br><br>Countries and territories=Netherlands<br>Day=18<br>Cases=%{marker.size}<br>Deaths=%{y}",
           "hovertext": [
            "Netherlands"
           ],
           "ids": [
            "Netherlands"
           ],
           "legendgroup": "Netherlands",
           "marker": {
            "color": "#ab63fa",
            "size": [
             292
            ],
            "sizemode": "area",
            "sizeref": 3.238024691358025,
            "symbol": "circle"
           },
           "mode": "markers",
           "name": "Netherlands",
           "showlegend": true,
           "type": "scatter",
           "x": [
            292
           ],
           "xaxis": "x4",
           "y": [
            0
           ],
           "yaxis": "y4"
          }
         ],
         "name": "18"
        },
        {
         "data": [
          {
           "hoverlabel": {
            "namelength": 0
           },
           "hovertemplate": "<b>%{hovertext}</b><br><br>Countries and territories=Germany<br>Day=19<br>Cases=%{marker.size}<br>Deaths=%{y}",
           "hovertext": [
            "Germany"
           ],
           "ids": [
            "Germany"
           ],
           "legendgroup": "Germany",
           "marker": {
            "color": "#636efa",
            "size": [
             1042
            ],
            "sizemode": "area",
            "sizeref": 3.238024691358025,
            "symbol": "circle"
           },
           "mode": "markers",
           "name": "Germany",
           "showlegend": true,
           "type": "scatter",
           "x": [
            1042
           ],
           "xaxis": "x",
           "y": [
            0
           ],
           "yaxis": "y"
          },
          {
           "hoverlabel": {
            "namelength": 0
           },
           "hovertemplate": "<b>%{hovertext}</b><br><br>Countries and territories=Italy<br>Day=19<br>Cases=%{marker.size}<br>Deaths=%{y}",
           "hovertext": [
            "Italy"
           ],
           "ids": [
            "Italy"
           ],
           "legendgroup": "Italy",
           "marker": {
            "color": "#EF553B",
            "size": [
             4207
            ],
            "sizemode": "area",
            "sizeref": 3.238024691358025,
            "symbol": "circle"
           },
           "mode": "markers",
           "name": "Italy",
           "showlegend": true,
           "type": "scatter",
           "x": [
            4207
           ],
           "xaxis": "x2",
           "y": [
            473
           ],
           "yaxis": "y2"
          },
          {
           "hoverlabel": {
            "namelength": 0
           },
           "hovertemplate": "<b>%{hovertext}</b><br><br>Countries and territories=China<br>Day=19<br>Cases=%{marker.size}<br>Deaths=%{y}",
           "hovertext": [
            "China"
           ],
           "ids": [
            "China"
           ],
           "legendgroup": "China",
           "marker": {
            "color": "#00cc96",
            "size": [
             75
            ],
            "sizemode": "area",
            "sizeref": 3.238024691358025,
            "symbol": "circle"
           },
           "mode": "markers",
           "name": "China",
           "showlegend": true,
           "type": "scatter",
           "x": [
            75
           ],
           "xaxis": "x3",
           "y": [
            8
           ],
           "yaxis": "y3"
          },
          {
           "hoverlabel": {
            "namelength": 0
           },
           "hovertemplate": "<b>%{hovertext}</b><br><br>Countries and territories=Netherlands<br>Day=19<br>Cases=%{marker.size}<br>Deaths=%{y}",
           "hovertext": [
            "Netherlands"
           ],
           "ids": [
            "Netherlands"
           ],
           "legendgroup": "Netherlands",
           "marker": {
            "color": "#ab63fa",
            "size": [
             346
            ],
            "sizemode": "area",
            "sizeref": 3.238024691358025,
            "symbol": "circle"
           },
           "mode": "markers",
           "name": "Netherlands",
           "showlegend": true,
           "type": "scatter",
           "x": [
            346
           ],
           "xaxis": "x4",
           "y": [
            34
           ],
           "yaxis": "y4"
          }
         ],
         "name": "19"
        },
        {
         "data": [
          {
           "hoverlabel": {
            "namelength": 0
           },
           "hovertemplate": "<b>%{hovertext}</b><br><br>Countries and territories=Germany<br>Day=20<br>Cases=%{marker.size}<br>Deaths=%{y}",
           "hovertext": [
            "Germany"
           ],
           "ids": [
            "Germany"
           ],
           "legendgroup": "Germany",
           "marker": {
            "color": "#636efa",
            "size": [
             5940
            ],
            "sizemode": "area",
            "sizeref": 3.238024691358025,
            "symbol": "circle"
           },
           "mode": "markers",
           "name": "Germany",
           "showlegend": true,
           "type": "scatter",
           "x": [
            5940
           ],
           "xaxis": "x",
           "y": [
            30
           ],
           "yaxis": "y"
          },
          {
           "hoverlabel": {
            "namelength": 0
           },
           "hovertemplate": "<b>%{hovertext}</b><br><br>Countries and territories=Italy<br>Day=20<br>Cases=%{marker.size}<br>Deaths=%{y}",
           "hovertext": [
            "Italy"
           ],
           "ids": [
            "Italy"
           ],
           "legendgroup": "Italy",
           "marker": {
            "color": "#EF553B",
            "size": [
             5322
            ],
            "sizemode": "area",
            "sizeref": 3.238024691358025,
            "symbol": "circle"
           },
           "mode": "markers",
           "name": "Italy",
           "showlegend": true,
           "type": "scatter",
           "x": [
            5322
           ],
           "xaxis": "x2",
           "y": [
            429
           ],
           "yaxis": "y2"
          },
          {
           "hoverlabel": {
            "namelength": 0
           },
           "hovertemplate": "<b>%{hovertext}</b><br><br>Countries and territories=China<br>Day=20<br>Cases=%{marker.size}<br>Deaths=%{y}",
           "hovertext": [
            "China"
           ],
           "ids": [
            "China"
           ],
           "legendgroup": "China",
           "marker": {
            "color": "#00cc96",
            "size": [
             99
            ],
            "sizemode": "area",
            "sizeref": 3.238024691358025,
            "symbol": "circle"
           },
           "mode": "markers",
           "name": "China",
           "showlegend": true,
           "type": "scatter",
           "x": [
            99
           ],
           "xaxis": "x3",
           "y": [
            4
           ],
           "yaxis": "y3"
          },
          {
           "hoverlabel": {
            "namelength": 0
           },
           "hovertemplate": "<b>%{hovertext}</b><br><br>Countries and territories=Netherlands<br>Day=20<br>Cases=%{marker.size}<br>Deaths=%{y}",
           "hovertext": [
            "Netherlands"
           ],
           "ids": [
            "Netherlands"
           ],
           "legendgroup": "Netherlands",
           "marker": {
            "color": "#ab63fa",
            "size": [
             409
            ],
            "sizemode": "area",
            "sizeref": 3.238024691358025,
            "symbol": "circle"
           },
           "mode": "markers",
           "name": "Netherlands",
           "showlegend": true,
           "type": "scatter",
           "x": [
            409
           ],
           "xaxis": "x4",
           "y": [
            18
           ],
           "yaxis": "y4"
          }
         ],
         "name": "20"
        },
        {
         "data": [
          {
           "hoverlabel": {
            "namelength": 0
           },
           "hovertemplate": "<b>%{hovertext}</b><br><br>Countries and territories=Germany<br>Day=21<br>Cases=%{marker.size}<br>Deaths=%{y}",
           "hovertext": [
            "Germany"
           ],
           "ids": [
            "Germany"
           ],
           "legendgroup": "Germany",
           "marker": {
            "color": "#636efa",
            "size": [
             4049
            ],
            "sizemode": "area",
            "sizeref": 3.238024691358025,
            "symbol": "circle"
           },
           "mode": "markers",
           "name": "Germany",
           "showlegend": true,
           "type": "scatter",
           "x": [
            4049
           ],
           "xaxis": "x",
           "y": [
            2
           ],
           "yaxis": "y"
          },
          {
           "hoverlabel": {
            "namelength": 0
           },
           "hovertemplate": "<b>%{hovertext}</b><br><br>Countries and territories=Italy<br>Day=21<br>Cases=%{marker.size}<br>Deaths=%{y}",
           "hovertext": [
            "Italy"
           ],
           "ids": [
            "Italy"
           ],
           "legendgroup": "Italy",
           "marker": {
            "color": "#EF553B",
            "size": [
             5986
            ],
            "sizemode": "area",
            "sizeref": 3.238024691358025,
            "symbol": "circle"
           },
           "mode": "markers",
           "name": "Italy",
           "showlegend": true,
           "type": "scatter",
           "x": [
            5986
           ],
           "xaxis": "x2",
           "y": [
            625
           ],
           "yaxis": "y2"
          },
          {
           "hoverlabel": {
            "namelength": 0
           },
           "hovertemplate": "<b>%{hovertext}</b><br><br>Countries and territories=China<br>Day=21<br>Cases=%{marker.size}<br>Deaths=%{y}",
           "hovertext": [
            "China"
           ],
           "ids": [
            "China"
           ],
           "legendgroup": "China",
           "marker": {
            "color": "#00cc96",
            "size": [
             79
            ],
            "sizemode": "area",
            "sizeref": 3.238024691358025,
            "symbol": "circle"
           },
           "mode": "markers",
           "name": "China",
           "showlegend": true,
           "type": "scatter",
           "x": [
            79
           ],
           "xaxis": "x3",
           "y": [
            7
           ],
           "yaxis": "y3"
          },
          {
           "hoverlabel": {
            "namelength": 0
           },
           "hovertemplate": "<b>%{hovertext}</b><br><br>Countries and territories=Netherlands<br>Day=21<br>Cases=%{marker.size}<br>Deaths=%{y}",
           "hovertext": [
            "Netherlands"
           ],
           "ids": [
            "Netherlands"
           ],
           "legendgroup": "Netherlands",
           "marker": {
            "color": "#ab63fa",
            "size": [
             534
            ],
            "sizemode": "area",
            "sizeref": 3.238024691358025,
            "symbol": "circle"
           },
           "mode": "markers",
           "name": "Netherlands",
           "showlegend": true,
           "type": "scatter",
           "x": [
            534
           ],
           "xaxis": "x4",
           "y": [
            30
           ],
           "yaxis": "y4"
          }
         ],
         "name": "21"
        },
        {
         "data": [
          {
           "hoverlabel": {
            "namelength": 0
           },
           "hovertemplate": "<b>%{hovertext}</b><br><br>Countries and territories=Germany<br>Day=22<br>Cases=%{marker.size}<br>Deaths=%{y}",
           "hovertext": [
            "Germany"
           ],
           "ids": [
            "Germany"
           ],
           "legendgroup": "Germany",
           "marker": {
            "color": "#636efa",
            "size": [
             3276
            ],
            "sizemode": "area",
            "sizeref": 3.238024691358025,
            "symbol": "circle"
           },
           "mode": "markers",
           "name": "Germany",
           "showlegend": true,
           "type": "scatter",
           "x": [
            3276
           ],
           "xaxis": "x",
           "y": [
            22
           ],
           "yaxis": "y"
          },
          {
           "hoverlabel": {
            "namelength": 0
           },
           "hovertemplate": "<b>%{hovertext}</b><br><br>Countries and territories=Italy<br>Day=22<br>Cases=%{marker.size}<br>Deaths=%{y}",
           "hovertext": [
            "Italy"
           ],
           "ids": [
            "Italy"
           ],
           "legendgroup": "Italy",
           "marker": {
            "color": "#EF553B",
            "size": [
             6557
            ],
            "sizemode": "area",
            "sizeref": 3.238024691358025,
            "symbol": "circle"
           },
           "mode": "markers",
           "name": "Italy",
           "showlegend": true,
           "type": "scatter",
           "x": [
            6557
           ],
           "xaxis": "x2",
           "y": [
            795
           ],
           "yaxis": "y2"
          },
          {
           "hoverlabel": {
            "namelength": 0
           },
           "hovertemplate": "<b>%{hovertext}</b><br><br>Countries and territories=China<br>Day=22<br>Cases=%{marker.size}<br>Deaths=%{y}",
           "hovertext": [
            "China"
           ],
           "ids": [
            "China"
           ],
           "legendgroup": "China",
           "marker": {
            "color": "#00cc96",
            "size": [
             83
            ],
            "sizemode": "area",
            "sizeref": 3.238024691358025,
            "symbol": "circle"
           },
           "mode": "markers",
           "name": "China",
           "showlegend": true,
           "type": "scatter",
           "x": [
            83
           ],
           "xaxis": "x3",
           "y": [
            6
           ],
           "yaxis": "y3"
          },
          {
           "hoverlabel": {
            "namelength": 0
           },
           "hovertemplate": "<b>%{hovertext}</b><br><br>Countries and territories=Netherlands<br>Day=22<br>Cases=%{marker.size}<br>Deaths=%{y}",
           "hovertext": [
            "Netherlands"
           ],
           "ids": [
            "Netherlands"
           ],
           "legendgroup": "Netherlands",
           "marker": {
            "color": "#ab63fa",
            "size": [
             637
            ],
            "sizemode": "area",
            "sizeref": 3.238024691358025,
            "symbol": "circle"
           },
           "mode": "markers",
           "name": "Netherlands",
           "showlegend": true,
           "type": "scatter",
           "x": [
            637
           ],
           "xaxis": "x4",
           "y": [
            30
           ],
           "yaxis": "y4"
          }
         ],
         "name": "22"
        },
        {
         "data": [
          {
           "hoverlabel": {
            "namelength": 0
           },
           "hovertemplate": "<b>%{hovertext}</b><br><br>Countries and territories=Germany<br>Day=23<br>Cases=%{marker.size}<br>Deaths=%{y}",
           "hovertext": [
            "Germany"
           ],
           "ids": [
            "Germany"
           ],
           "legendgroup": "Germany",
           "marker": {
            "color": "#636efa",
            "size": [
             3311
            ],
            "sizemode": "area",
            "sizeref": 3.238024691358025,
            "symbol": "circle"
           },
           "mode": "markers",
           "name": "Germany",
           "showlegend": true,
           "type": "scatter",
           "x": [
            3311
           ],
           "xaxis": "x",
           "y": [
            27
           ],
           "yaxis": "y"
          },
          {
           "hoverlabel": {
            "namelength": 0
           },
           "hovertemplate": "<b>%{hovertext}</b><br><br>Countries and territories=Italy<br>Day=23<br>Cases=%{marker.size}<br>Deaths=%{y}",
           "hovertext": [
            "Italy"
           ],
           "ids": [
            "Italy"
           ],
           "legendgroup": "Italy",
           "marker": {
            "color": "#EF553B",
            "size": [
             5560
            ],
            "sizemode": "area",
            "sizeref": 3.238024691358025,
            "symbol": "circle"
           },
           "mode": "markers",
           "name": "Italy",
           "showlegend": true,
           "type": "scatter",
           "x": [
            5560
           ],
           "xaxis": "x2",
           "y": [
            649
           ],
           "yaxis": "y2"
          },
          {
           "hoverlabel": {
            "namelength": 0
           },
           "hovertemplate": "<b>%{hovertext}</b><br><br>Countries and territories=China<br>Day=23<br>Cases=%{marker.size}<br>Deaths=%{y}",
           "hovertext": [
            "China"
           ],
           "ids": [
            "China"
           ],
           "legendgroup": "China",
           "marker": {
            "color": "#00cc96",
            "size": [
             150
            ],
            "sizemode": "area",
            "sizeref": 3.238024691358025,
            "symbol": "circle"
           },
           "mode": "markers",
           "name": "China",
           "showlegend": true,
           "type": "scatter",
           "x": [
            150
           ],
           "xaxis": "x3",
           "y": [
            9
           ],
           "yaxis": "y3"
          },
          {
           "hoverlabel": {
            "namelength": 0
           },
           "hovertemplate": "<b>%{hovertext}</b><br><br>Countries and territories=Netherlands<br>Day=23<br>Cases=%{marker.size}<br>Deaths=%{y}",
           "hovertext": [
            "Netherlands"
           ],
           "ids": [
            "Netherlands"
           ],
           "legendgroup": "Netherlands",
           "marker": {
            "color": "#ab63fa",
            "size": [
             573
            ],
            "sizemode": "area",
            "sizeref": 3.238024691358025,
            "symbol": "circle"
           },
           "mode": "markers",
           "name": "Netherlands",
           "showlegend": true,
           "type": "scatter",
           "x": [
            573
           ],
           "xaxis": "x4",
           "y": [
            43
           ],
           "yaxis": "y4"
          }
         ],
         "name": "23"
        }
       ],
       "layout": {
        "annotations": [
         {
          "font": {},
          "showarrow": false,
          "text": "Countries and territories=Germany",
          "x": 0.1175,
          "xanchor": "center",
          "xref": "paper",
          "y": 1,
          "yanchor": "bottom",
          "yref": "paper"
         },
         {
          "font": {},
          "showarrow": false,
          "text": "Countries and territories=Italy",
          "x": 0.3725,
          "xanchor": "center",
          "xref": "paper",
          "y": 1,
          "yanchor": "bottom",
          "yref": "paper"
         },
         {
          "font": {},
          "showarrow": false,
          "text": "Countries and territories=China",
          "x": 0.6275,
          "xanchor": "center",
          "xref": "paper",
          "y": 1,
          "yanchor": "bottom",
          "yref": "paper"
         },
         {
          "font": {},
          "showarrow": false,
          "text": "Countries and territories=Netherlands",
          "x": 0.8824999999999998,
          "xanchor": "center",
          "xref": "paper",
          "y": 1,
          "yanchor": "bottom",
          "yref": "paper"
         }
        ],
        "legend": {
         "itemsizing": "constant",
         "title": {
          "text": "Countries and territories"
         },
         "tracegroupgap": 0
        },
        "margin": {
         "t": 60
        },
        "sliders": [
         {
          "active": 0,
          "currentvalue": {
           "prefix": "Day="
          },
          "len": 0.9,
          "pad": {
           "b": 10,
           "t": 60
          },
          "steps": [
           {
            "args": [
             [
              "1"
             ],
             {
              "frame": {
               "duration": 0,
               "redraw": false
              },
              "fromcurrent": true,
              "mode": "immediate",
              "transition": {
               "duration": 0,
               "easing": "linear"
              }
             }
            ],
            "label": "1",
            "method": "animate"
           },
           {
            "args": [
             [
              "2"
             ],
             {
              "frame": {
               "duration": 0,
               "redraw": false
              },
              "fromcurrent": true,
              "mode": "immediate",
              "transition": {
               "duration": 0,
               "easing": "linear"
              }
             }
            ],
            "label": "2",
            "method": "animate"
           },
           {
            "args": [
             [
              "3"
             ],
             {
              "frame": {
               "duration": 0,
               "redraw": false
              },
              "fromcurrent": true,
              "mode": "immediate",
              "transition": {
               "duration": 0,
               "easing": "linear"
              }
             }
            ],
            "label": "3",
            "method": "animate"
           },
           {
            "args": [
             [
              "4"
             ],
             {
              "frame": {
               "duration": 0,
               "redraw": false
              },
              "fromcurrent": true,
              "mode": "immediate",
              "transition": {
               "duration": 0,
               "easing": "linear"
              }
             }
            ],
            "label": "4",
            "method": "animate"
           },
           {
            "args": [
             [
              "5"
             ],
             {
              "frame": {
               "duration": 0,
               "redraw": false
              },
              "fromcurrent": true,
              "mode": "immediate",
              "transition": {
               "duration": 0,
               "easing": "linear"
              }
             }
            ],
            "label": "5",
            "method": "animate"
           },
           {
            "args": [
             [
              "6"
             ],
             {
              "frame": {
               "duration": 0,
               "redraw": false
              },
              "fromcurrent": true,
              "mode": "immediate",
              "transition": {
               "duration": 0,
               "easing": "linear"
              }
             }
            ],
            "label": "6",
            "method": "animate"
           },
           {
            "args": [
             [
              "7"
             ],
             {
              "frame": {
               "duration": 0,
               "redraw": false
              },
              "fromcurrent": true,
              "mode": "immediate",
              "transition": {
               "duration": 0,
               "easing": "linear"
              }
             }
            ],
            "label": "7",
            "method": "animate"
           },
           {
            "args": [
             [
              "8"
             ],
             {
              "frame": {
               "duration": 0,
               "redraw": false
              },
              "fromcurrent": true,
              "mode": "immediate",
              "transition": {
               "duration": 0,
               "easing": "linear"
              }
             }
            ],
            "label": "8",
            "method": "animate"
           },
           {
            "args": [
             [
              "9"
             ],
             {
              "frame": {
               "duration": 0,
               "redraw": false
              },
              "fromcurrent": true,
              "mode": "immediate",
              "transition": {
               "duration": 0,
               "easing": "linear"
              }
             }
            ],
            "label": "9",
            "method": "animate"
           },
           {
            "args": [
             [
              "10"
             ],
             {
              "frame": {
               "duration": 0,
               "redraw": false
              },
              "fromcurrent": true,
              "mode": "immediate",
              "transition": {
               "duration": 0,
               "easing": "linear"
              }
             }
            ],
            "label": "10",
            "method": "animate"
           },
           {
            "args": [
             [
              "11"
             ],
             {
              "frame": {
               "duration": 0,
               "redraw": false
              },
              "fromcurrent": true,
              "mode": "immediate",
              "transition": {
               "duration": 0,
               "easing": "linear"
              }
             }
            ],
            "label": "11",
            "method": "animate"
           },
           {
            "args": [
             [
              "12"
             ],
             {
              "frame": {
               "duration": 0,
               "redraw": false
              },
              "fromcurrent": true,
              "mode": "immediate",
              "transition": {
               "duration": 0,
               "easing": "linear"
              }
             }
            ],
            "label": "12",
            "method": "animate"
           },
           {
            "args": [
             [
              "13"
             ],
             {
              "frame": {
               "duration": 0,
               "redraw": false
              },
              "fromcurrent": true,
              "mode": "immediate",
              "transition": {
               "duration": 0,
               "easing": "linear"
              }
             }
            ],
            "label": "13",
            "method": "animate"
           },
           {
            "args": [
             [
              "14"
             ],
             {
              "frame": {
               "duration": 0,
               "redraw": false
              },
              "fromcurrent": true,
              "mode": "immediate",
              "transition": {
               "duration": 0,
               "easing": "linear"
              }
             }
            ],
            "label": "14",
            "method": "animate"
           },
           {
            "args": [
             [
              "15"
             ],
             {
              "frame": {
               "duration": 0,
               "redraw": false
              },
              "fromcurrent": true,
              "mode": "immediate",
              "transition": {
               "duration": 0,
               "easing": "linear"
              }
             }
            ],
            "label": "15",
            "method": "animate"
           },
           {
            "args": [
             [
              "16"
             ],
             {
              "frame": {
               "duration": 0,
               "redraw": false
              },
              "fromcurrent": true,
              "mode": "immediate",
              "transition": {
               "duration": 0,
               "easing": "linear"
              }
             }
            ],
            "label": "16",
            "method": "animate"
           },
           {
            "args": [
             [
              "17"
             ],
             {
              "frame": {
               "duration": 0,
               "redraw": false
              },
              "fromcurrent": true,
              "mode": "immediate",
              "transition": {
               "duration": 0,
               "easing": "linear"
              }
             }
            ],
            "label": "17",
            "method": "animate"
           },
           {
            "args": [
             [
              "18"
             ],
             {
              "frame": {
               "duration": 0,
               "redraw": false
              },
              "fromcurrent": true,
              "mode": "immediate",
              "transition": {
               "duration": 0,
               "easing": "linear"
              }
             }
            ],
            "label": "18",
            "method": "animate"
           },
           {
            "args": [
             [
              "19"
             ],
             {
              "frame": {
               "duration": 0,
               "redraw": false
              },
              "fromcurrent": true,
              "mode": "immediate",
              "transition": {
               "duration": 0,
               "easing": "linear"
              }
             }
            ],
            "label": "19",
            "method": "animate"
           },
           {
            "args": [
             [
              "20"
             ],
             {
              "frame": {
               "duration": 0,
               "redraw": false
              },
              "fromcurrent": true,
              "mode": "immediate",
              "transition": {
               "duration": 0,
               "easing": "linear"
              }
             }
            ],
            "label": "20",
            "method": "animate"
           },
           {
            "args": [
             [
              "21"
             ],
             {
              "frame": {
               "duration": 0,
               "redraw": false
              },
              "fromcurrent": true,
              "mode": "immediate",
              "transition": {
               "duration": 0,
               "easing": "linear"
              }
             }
            ],
            "label": "21",
            "method": "animate"
           },
           {
            "args": [
             [
              "22"
             ],
             {
              "frame": {
               "duration": 0,
               "redraw": false
              },
              "fromcurrent": true,
              "mode": "immediate",
              "transition": {
               "duration": 0,
               "easing": "linear"
              }
             }
            ],
            "label": "22",
            "method": "animate"
           },
           {
            "args": [
             [
              "23"
             ],
             {
              "frame": {
               "duration": 0,
               "redraw": false
              },
              "fromcurrent": true,
              "mode": "immediate",
              "transition": {
               "duration": 0,
               "easing": "linear"
              }
             }
            ],
            "label": "23",
            "method": "animate"
           }
          ],
          "x": 0.1,
          "xanchor": "left",
          "y": 0,
          "yanchor": "top"
         }
        ],
        "template": {
         "data": {
          "bar": [
           {
            "error_x": {
             "color": "#2a3f5f"
            },
            "error_y": {
             "color": "#2a3f5f"
            },
            "marker": {
             "line": {
              "color": "#E5ECF6",
              "width": 0.5
             }
            },
            "type": "bar"
           }
          ],
          "barpolar": [
           {
            "marker": {
             "line": {
              "color": "#E5ECF6",
              "width": 0.5
             }
            },
            "type": "barpolar"
           }
          ],
          "carpet": [
           {
            "aaxis": {
             "endlinecolor": "#2a3f5f",
             "gridcolor": "white",
             "linecolor": "white",
             "minorgridcolor": "white",
             "startlinecolor": "#2a3f5f"
            },
            "baxis": {
             "endlinecolor": "#2a3f5f",
             "gridcolor": "white",
             "linecolor": "white",
             "minorgridcolor": "white",
             "startlinecolor": "#2a3f5f"
            },
            "type": "carpet"
           }
          ],
          "choropleth": [
           {
            "colorbar": {
             "outlinewidth": 0,
             "ticks": ""
            },
            "type": "choropleth"
           }
          ],
          "contour": [
           {
            "colorbar": {
             "outlinewidth": 0,
             "ticks": ""
            },
            "colorscale": [
             [
              0,
              "#0d0887"
             ],
             [
              0.1111111111111111,
              "#46039f"
             ],
             [
              0.2222222222222222,
              "#7201a8"
             ],
             [
              0.3333333333333333,
              "#9c179e"
             ],
             [
              0.4444444444444444,
              "#bd3786"
             ],
             [
              0.5555555555555556,
              "#d8576b"
             ],
             [
              0.6666666666666666,
              "#ed7953"
             ],
             [
              0.7777777777777778,
              "#fb9f3a"
             ],
             [
              0.8888888888888888,
              "#fdca26"
             ],
             [
              1,
              "#f0f921"
             ]
            ],
            "type": "contour"
           }
          ],
          "contourcarpet": [
           {
            "colorbar": {
             "outlinewidth": 0,
             "ticks": ""
            },
            "type": "contourcarpet"
           }
          ],
          "heatmap": [
           {
            "colorbar": {
             "outlinewidth": 0,
             "ticks": ""
            },
            "colorscale": [
             [
              0,
              "#0d0887"
             ],
             [
              0.1111111111111111,
              "#46039f"
             ],
             [
              0.2222222222222222,
              "#7201a8"
             ],
             [
              0.3333333333333333,
              "#9c179e"
             ],
             [
              0.4444444444444444,
              "#bd3786"
             ],
             [
              0.5555555555555556,
              "#d8576b"
             ],
             [
              0.6666666666666666,
              "#ed7953"
             ],
             [
              0.7777777777777778,
              "#fb9f3a"
             ],
             [
              0.8888888888888888,
              "#fdca26"
             ],
             [
              1,
              "#f0f921"
             ]
            ],
            "type": "heatmap"
           }
          ],
          "heatmapgl": [
           {
            "colorbar": {
             "outlinewidth": 0,
             "ticks": ""
            },
            "colorscale": [
             [
              0,
              "#0d0887"
             ],
             [
              0.1111111111111111,
              "#46039f"
             ],
             [
              0.2222222222222222,
              "#7201a8"
             ],
             [
              0.3333333333333333,
              "#9c179e"
             ],
             [
              0.4444444444444444,
              "#bd3786"
             ],
             [
              0.5555555555555556,
              "#d8576b"
             ],
             [
              0.6666666666666666,
              "#ed7953"
             ],
             [
              0.7777777777777778,
              "#fb9f3a"
             ],
             [
              0.8888888888888888,
              "#fdca26"
             ],
             [
              1,
              "#f0f921"
             ]
            ],
            "type": "heatmapgl"
           }
          ],
          "histogram": [
           {
            "marker": {
             "colorbar": {
              "outlinewidth": 0,
              "ticks": ""
             }
            },
            "type": "histogram"
           }
          ],
          "histogram2d": [
           {
            "colorbar": {
             "outlinewidth": 0,
             "ticks": ""
            },
            "colorscale": [
             [
              0,
              "#0d0887"
             ],
             [
              0.1111111111111111,
              "#46039f"
             ],
             [
              0.2222222222222222,
              "#7201a8"
             ],
             [
              0.3333333333333333,
              "#9c179e"
             ],
             [
              0.4444444444444444,
              "#bd3786"
             ],
             [
              0.5555555555555556,
              "#d8576b"
             ],
             [
              0.6666666666666666,
              "#ed7953"
             ],
             [
              0.7777777777777778,
              "#fb9f3a"
             ],
             [
              0.8888888888888888,
              "#fdca26"
             ],
             [
              1,
              "#f0f921"
             ]
            ],
            "type": "histogram2d"
           }
          ],
          "histogram2dcontour": [
           {
            "colorbar": {
             "outlinewidth": 0,
             "ticks": ""
            },
            "colorscale": [
             [
              0,
              "#0d0887"
             ],
             [
              0.1111111111111111,
              "#46039f"
             ],
             [
              0.2222222222222222,
              "#7201a8"
             ],
             [
              0.3333333333333333,
              "#9c179e"
             ],
             [
              0.4444444444444444,
              "#bd3786"
             ],
             [
              0.5555555555555556,
              "#d8576b"
             ],
             [
              0.6666666666666666,
              "#ed7953"
             ],
             [
              0.7777777777777778,
              "#fb9f3a"
             ],
             [
              0.8888888888888888,
              "#fdca26"
             ],
             [
              1,
              "#f0f921"
             ]
            ],
            "type": "histogram2dcontour"
           }
          ],
          "mesh3d": [
           {
            "colorbar": {
             "outlinewidth": 0,
             "ticks": ""
            },
            "type": "mesh3d"
           }
          ],
          "parcoords": [
           {
            "line": {
             "colorbar": {
              "outlinewidth": 0,
              "ticks": ""
             }
            },
            "type": "parcoords"
           }
          ],
          "pie": [
           {
            "automargin": true,
            "type": "pie"
           }
          ],
          "scatter": [
           {
            "marker": {
             "colorbar": {
              "outlinewidth": 0,
              "ticks": ""
             }
            },
            "type": "scatter"
           }
          ],
          "scatter3d": [
           {
            "line": {
             "colorbar": {
              "outlinewidth": 0,
              "ticks": ""
             }
            },
            "marker": {
             "colorbar": {
              "outlinewidth": 0,
              "ticks": ""
             }
            },
            "type": "scatter3d"
           }
          ],
          "scattercarpet": [
           {
            "marker": {
             "colorbar": {
              "outlinewidth": 0,
              "ticks": ""
             }
            },
            "type": "scattercarpet"
           }
          ],
          "scattergeo": [
           {
            "marker": {
             "colorbar": {
              "outlinewidth": 0,
              "ticks": ""
             }
            },
            "type": "scattergeo"
           }
          ],
          "scattergl": [
           {
            "marker": {
             "colorbar": {
              "outlinewidth": 0,
              "ticks": ""
             }
            },
            "type": "scattergl"
           }
          ],
          "scattermapbox": [
           {
            "marker": {
             "colorbar": {
              "outlinewidth": 0,
              "ticks": ""
             }
            },
            "type": "scattermapbox"
           }
          ],
          "scatterpolar": [
           {
            "marker": {
             "colorbar": {
              "outlinewidth": 0,
              "ticks": ""
             }
            },
            "type": "scatterpolar"
           }
          ],
          "scatterpolargl": [
           {
            "marker": {
             "colorbar": {
              "outlinewidth": 0,
              "ticks": ""
             }
            },
            "type": "scatterpolargl"
           }
          ],
          "scatterternary": [
           {
            "marker": {
             "colorbar": {
              "outlinewidth": 0,
              "ticks": ""
             }
            },
            "type": "scatterternary"
           }
          ],
          "surface": [
           {
            "colorbar": {
             "outlinewidth": 0,
             "ticks": ""
            },
            "colorscale": [
             [
              0,
              "#0d0887"
             ],
             [
              0.1111111111111111,
              "#46039f"
             ],
             [
              0.2222222222222222,
              "#7201a8"
             ],
             [
              0.3333333333333333,
              "#9c179e"
             ],
             [
              0.4444444444444444,
              "#bd3786"
             ],
             [
              0.5555555555555556,
              "#d8576b"
             ],
             [
              0.6666666666666666,
              "#ed7953"
             ],
             [
              0.7777777777777778,
              "#fb9f3a"
             ],
             [
              0.8888888888888888,
              "#fdca26"
             ],
             [
              1,
              "#f0f921"
             ]
            ],
            "type": "surface"
           }
          ],
          "table": [
           {
            "cells": {
             "fill": {
              "color": "#EBF0F8"
             },
             "line": {
              "color": "white"
             }
            },
            "header": {
             "fill": {
              "color": "#C8D4E3"
             },
             "line": {
              "color": "white"
             }
            },
            "type": "table"
           }
          ]
         },
         "layout": {
          "annotationdefaults": {
           "arrowcolor": "#2a3f5f",
           "arrowhead": 0,
           "arrowwidth": 1
          },
          "coloraxis": {
           "colorbar": {
            "outlinewidth": 0,
            "ticks": ""
           }
          },
          "colorscale": {
           "diverging": [
            [
             0,
             "#8e0152"
            ],
            [
             0.1,
             "#c51b7d"
            ],
            [
             0.2,
             "#de77ae"
            ],
            [
             0.3,
             "#f1b6da"
            ],
            [
             0.4,
             "#fde0ef"
            ],
            [
             0.5,
             "#f7f7f7"
            ],
            [
             0.6,
             "#e6f5d0"
            ],
            [
             0.7,
             "#b8e186"
            ],
            [
             0.8,
             "#7fbc41"
            ],
            [
             0.9,
             "#4d9221"
            ],
            [
             1,
             "#276419"
            ]
           ],
           "sequential": [
            [
             0,
             "#0d0887"
            ],
            [
             0.1111111111111111,
             "#46039f"
            ],
            [
             0.2222222222222222,
             "#7201a8"
            ],
            [
             0.3333333333333333,
             "#9c179e"
            ],
            [
             0.4444444444444444,
             "#bd3786"
            ],
            [
             0.5555555555555556,
             "#d8576b"
            ],
            [
             0.6666666666666666,
             "#ed7953"
            ],
            [
             0.7777777777777778,
             "#fb9f3a"
            ],
            [
             0.8888888888888888,
             "#fdca26"
            ],
            [
             1,
             "#f0f921"
            ]
           ],
           "sequentialminus": [
            [
             0,
             "#0d0887"
            ],
            [
             0.1111111111111111,
             "#46039f"
            ],
            [
             0.2222222222222222,
             "#7201a8"
            ],
            [
             0.3333333333333333,
             "#9c179e"
            ],
            [
             0.4444444444444444,
             "#bd3786"
            ],
            [
             0.5555555555555556,
             "#d8576b"
            ],
            [
             0.6666666666666666,
             "#ed7953"
            ],
            [
             0.7777777777777778,
             "#fb9f3a"
            ],
            [
             0.8888888888888888,
             "#fdca26"
            ],
            [
             1,
             "#f0f921"
            ]
           ]
          },
          "colorway": [
           "#636efa",
           "#EF553B",
           "#00cc96",
           "#ab63fa",
           "#FFA15A",
           "#19d3f3",
           "#FF6692",
           "#B6E880",
           "#FF97FF",
           "#FECB52"
          ],
          "font": {
           "color": "#2a3f5f"
          },
          "geo": {
           "bgcolor": "white",
           "lakecolor": "white",
           "landcolor": "#E5ECF6",
           "showlakes": true,
           "showland": true,
           "subunitcolor": "white"
          },
          "hoverlabel": {
           "align": "left"
          },
          "hovermode": "closest",
          "mapbox": {
           "style": "light"
          },
          "paper_bgcolor": "white",
          "plot_bgcolor": "#E5ECF6",
          "polar": {
           "angularaxis": {
            "gridcolor": "white",
            "linecolor": "white",
            "ticks": ""
           },
           "bgcolor": "#E5ECF6",
           "radialaxis": {
            "gridcolor": "white",
            "linecolor": "white",
            "ticks": ""
           }
          },
          "scene": {
           "xaxis": {
            "backgroundcolor": "#E5ECF6",
            "gridcolor": "white",
            "gridwidth": 2,
            "linecolor": "white",
            "showbackground": true,
            "ticks": "",
            "zerolinecolor": "white"
           },
           "yaxis": {
            "backgroundcolor": "#E5ECF6",
            "gridcolor": "white",
            "gridwidth": 2,
            "linecolor": "white",
            "showbackground": true,
            "ticks": "",
            "zerolinecolor": "white"
           },
           "zaxis": {
            "backgroundcolor": "#E5ECF6",
            "gridcolor": "white",
            "gridwidth": 2,
            "linecolor": "white",
            "showbackground": true,
            "ticks": "",
            "zerolinecolor": "white"
           }
          },
          "shapedefaults": {
           "line": {
            "color": "#2a3f5f"
           }
          },
          "ternary": {
           "aaxis": {
            "gridcolor": "white",
            "linecolor": "white",
            "ticks": ""
           },
           "baxis": {
            "gridcolor": "white",
            "linecolor": "white",
            "ticks": ""
           },
           "bgcolor": "#E5ECF6",
           "caxis": {
            "gridcolor": "white",
            "linecolor": "white",
            "ticks": ""
           }
          },
          "title": {
           "x": 0.05
          },
          "xaxis": {
           "automargin": true,
           "gridcolor": "white",
           "linecolor": "white",
           "ticks": "",
           "title": {
            "standoff": 15
           },
           "zerolinecolor": "white",
           "zerolinewidth": 2
          },
          "yaxis": {
           "automargin": true,
           "gridcolor": "white",
           "linecolor": "white",
           "ticks": "",
           "title": {
            "standoff": 15
           },
           "zerolinecolor": "white",
           "zerolinewidth": 2
          }
         }
        },
        "updatemenus": [
         {
          "buttons": [
           {
            "args": [
             null,
             {
              "frame": {
               "duration": 500,
               "redraw": false
              },
              "fromcurrent": true,
              "mode": "immediate",
              "transition": {
               "duration": 500,
               "easing": "linear"
              }
             }
            ],
            "label": "&#9654;",
            "method": "animate"
           },
           {
            "args": [
             [
              null
             ],
             {
              "frame": {
               "duration": 0,
               "redraw": false
              },
              "fromcurrent": true,
              "mode": "immediate",
              "transition": {
               "duration": 0,
               "easing": "linear"
              }
             }
            ],
            "label": "&#9724;",
            "method": "animate"
           }
          ],
          "direction": "left",
          "pad": {
           "r": 10,
           "t": 70
          },
          "showactive": false,
          "type": "buttons",
          "x": 0.1,
          "xanchor": "right",
          "y": 0,
          "yanchor": "top"
         }
        ],
        "xaxis": {
         "anchor": "y",
         "domain": [
          0,
          0.235
         ],
         "range": [
          0,
          10000
         ],
         "title": {
          "text": "Cases"
         }
        },
        "xaxis2": {
         "anchor": "y2",
         "domain": [
          0.255,
          0.49
         ],
         "matches": "x",
         "range": [
          0,
          10000
         ],
         "title": {
          "text": "Cases"
         }
        },
        "xaxis3": {
         "anchor": "y3",
         "domain": [
          0.51,
          0.745
         ],
         "matches": "x",
         "range": [
          0,
          10000
         ],
         "title": {
          "text": "Cases"
         }
        },
        "xaxis4": {
         "anchor": "y4",
         "domain": [
          0.7649999999999999,
          0.9999999999999999
         ],
         "matches": "x",
         "range": [
          0,
          10000
         ],
         "title": {
          "text": "Cases"
         }
        },
        "yaxis": {
         "anchor": "x",
         "domain": [
          0,
          1
         ],
         "range": [
          0,
          1000
         ],
         "title": {
          "text": "Deaths"
         }
        },
        "yaxis2": {
         "anchor": "x2",
         "domain": [
          0,
          1
         ],
         "matches": "y",
         "showticklabels": false
        },
        "yaxis3": {
         "anchor": "x3",
         "domain": [
          0,
          1
         ],
         "matches": "y",
         "showticklabels": false
        },
        "yaxis4": {
         "anchor": "x4",
         "domain": [
          0,
          1
         ],
         "matches": "y",
         "showticklabels": false
        }
       }
      }
     },
     "metadata": {}
    }
   ],
   "source": [
    "    fig = px.scatter(df_plot, x=\"Cases\", y=\"Deaths\", animation_frame=\"Day\", animation_group=\"Countries and territories\",\n",
    "            size=\"Cases\", color=\"Countries and territories\", hover_name=\"Countries and territories\", facet_col=\"Countries and territories\",\n",
    "            log_x=False, size_max=45, range_x=[0,10000], range_y=[0,1000])\n",
    "\n",
    "fig"
   ]
  },
  {
   "cell_type": "code",
   "execution_count": 34,
   "metadata": {},
   "outputs": [],
   "source": [
    "df_raw = df_raw.rename({\"Countries and territories\": 'country'})\n",
    ""
   ]
  },
  {
   "cell_type": "code",
   "execution_count": 35,
   "metadata": {},
   "outputs": [
    {
     "output_type": "execute_result",
     "data": {
      "text/plain": "     DateRep  Day  Month  Year  Cases  Deaths Countries and territories GeoId\n0 2020-03-23   23      3  2020     10       0               Afghanistan    AF\n1 2020-03-22   22      3  2020      0       0               Afghanistan    AF\n2 2020-03-21   21      3  2020      2       0               Afghanistan    AF\n3 2020-03-20   20      3  2020      0       0               Afghanistan    AF\n4 2020-03-19   19      3  2020      0       0               Afghanistan    AF",
      "text/html": "<div>\n<style scoped>\n    .dataframe tbody tr th:only-of-type {\n        vertical-align: middle;\n    }\n\n    .dataframe tbody tr th {\n        vertical-align: top;\n    }\n\n    .dataframe thead th {\n        text-align: right;\n    }\n</style>\n<table border=\"1\" class=\"dataframe\">\n  <thead>\n    <tr style=\"text-align: right;\">\n      <th></th>\n      <th>DateRep</th>\n      <th>Day</th>\n      <th>Month</th>\n      <th>Year</th>\n      <th>Cases</th>\n      <th>Deaths</th>\n      <th>Countries and territories</th>\n      <th>GeoId</th>\n    </tr>\n  </thead>\n  <tbody>\n    <tr>\n      <th>0</th>\n      <td>2020-03-23</td>\n      <td>23</td>\n      <td>3</td>\n      <td>2020</td>\n      <td>10</td>\n      <td>0</td>\n      <td>Afghanistan</td>\n      <td>AF</td>\n    </tr>\n    <tr>\n      <th>1</th>\n      <td>2020-03-22</td>\n      <td>22</td>\n      <td>3</td>\n      <td>2020</td>\n      <td>0</td>\n      <td>0</td>\n      <td>Afghanistan</td>\n      <td>AF</td>\n    </tr>\n    <tr>\n      <th>2</th>\n      <td>2020-03-21</td>\n      <td>21</td>\n      <td>3</td>\n      <td>2020</td>\n      <td>2</td>\n      <td>0</td>\n      <td>Afghanistan</td>\n      <td>AF</td>\n    </tr>\n    <tr>\n      <th>3</th>\n      <td>2020-03-20</td>\n      <td>20</td>\n      <td>3</td>\n      <td>2020</td>\n      <td>0</td>\n      <td>0</td>\n      <td>Afghanistan</td>\n      <td>AF</td>\n    </tr>\n    <tr>\n      <th>4</th>\n      <td>2020-03-19</td>\n      <td>19</td>\n      <td>3</td>\n      <td>2020</td>\n      <td>0</td>\n      <td>0</td>\n      <td>Afghanistan</td>\n      <td>AF</td>\n    </tr>\n  </tbody>\n</table>\n</div>"
     },
     "metadata": {},
     "execution_count": 35
    }
   ],
   "source": [
    "df_raw.head()"
   ]
  },
  {
   "cell_type": "code",
   "execution_count": null,
   "metadata": {},
   "outputs": [],
   "source": []
  }
 ]
}